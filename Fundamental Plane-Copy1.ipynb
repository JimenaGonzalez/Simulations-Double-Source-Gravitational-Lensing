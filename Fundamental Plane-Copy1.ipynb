{
 "cells": [
  {
   "cell_type": "code",
   "execution_count": 1,
   "metadata": {},
   "outputs": [],
   "source": [
    "import random\n",
    "import numpy as np\n",
    "from PIL import Image\n",
    "import matplotlib.pyplot as plt\n",
    "%matplotlib inline\n",
    "import astropy.units as u\n",
    "from astropy.cosmology import FlatLambdaCDM"
   ]
  },
  {
   "cell_type": "code",
   "execution_count": 2,
   "metadata": {},
   "outputs": [
    {
     "name": "stdout",
     "output_type": "stream",
     "text": [
      "20.206041311246043 19.873\n",
      "-23.586959240211673 -23.587\n",
      "Luminosity = 2.14e+11 L_solar\n",
      "0.8901830829366667 0.979\n"
     ]
    }
   ],
   "source": [
    "#Keith's code\n",
    "cosmo = FlatLambdaCDM(H0=70, Om0=0.3, Tcmb0=2.725)\n",
    "\n",
    "# First row of Table 2A and 3A\n",
    "m_dev = 17.234\n",
    "r_dev = 3.45\n",
    "b_over_a = 0.82\n",
    "z = 0.25100\n",
    "k = 0.309\n",
    "mu_0_table = 19.873\n",
    "R_table = 0.979\n",
    "abs_mag_table = -23.587\n",
    "\n",
    "\"\"\"\n",
    "# Second row of Table 2A and 3A\n",
    "m_dev = 16.400\n",
    "r_dev = 2.55\n",
    "b_over_a = 0.99\n",
    "z = 0.08513\n",
    "k = 0.104\n",
    "mu_0_table = 19.918\n",
    "R_table = 0.600\n",
    "abs_mag_table = -21.648\n",
    "\"\"\"\n",
    "\n",
    "r_0 = b_over_a * r_dev \n",
    "mu_0 = m_dev + (2.5 * np.log10(2 * np.pi * r_0**2)) - k - (10. * np.log10(1 + z))\n",
    "\n",
    "print(mu_0, mu_0_table)\n",
    "\n",
    "# This actually agrees for M_dev\n",
    "abs_mag = m_dev - cosmo.distmod(z).value - k\n",
    "# https://en.wikipedia.org/wiki/Absolute_magnitude\n",
    "abs_mag_sol = 4.74\n",
    "luminosity = 10**(0.4 * (abs_mag_sol - abs_mag)) # Solar luminosities\n",
    "\n",
    "print(abs_mag, abs_mag_table)\n",
    "print('Luminosity = %.2e L_solar'%(luminosity))\n",
    "\n",
    "R_0 = cosmo.angular_diameter_distance(z).to(u.kpc) * np.sin((r_0 * u.arcsec).to(u.radian)) # kpc\n",
    "# h-units: http://www.astro.ljmu.ac.uk/~ikb/research/h-units.html\n",
    "R = np.log10(R_0 * cosmo.h / u.kpc) # The argument has units kpc h^-1\n",
    "\n",
    "print(R, R_table)"
   ]
  },
  {
   "cell_type": "code",
   "execution_count": null,
   "metadata": {},
   "outputs": [],
   "source": []
  }
 ],
 "metadata": {
  "kernelspec": {
   "display_name": "Python 3",
   "language": "python",
   "name": "python3"
  },
  "language_info": {
   "codemirror_mode": {
    "name": "ipython",
    "version": 3
   },
   "file_extension": ".py",
   "mimetype": "text/x-python",
   "name": "python",
   "nbconvert_exporter": "python",
   "pygments_lexer": "ipython3",
   "version": "3.7.3"
  }
 },
 "nbformat": 4,
 "nbformat_minor": 2
}
