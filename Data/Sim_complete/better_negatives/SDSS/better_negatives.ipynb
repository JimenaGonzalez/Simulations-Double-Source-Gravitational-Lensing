version https://git-lfs.github.com/spec/v1
oid sha256:9270570ce113afccc62f4fb1d56b62b3be66952a3d1f8d428511abbeb000ec8a
size 2427922
