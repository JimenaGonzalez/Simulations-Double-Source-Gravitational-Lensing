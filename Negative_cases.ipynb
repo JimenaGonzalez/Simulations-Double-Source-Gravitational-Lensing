{
 "cells": [
  {
   "cell_type": "code",
   "execution_count": 1,
   "metadata": {},
   "outputs": [],
   "source": [
    "import numpy as np\n",
    "import pandas as pd\n",
    "import os\n",
    "import ipython_bell\n",
    "\n",
    "from astropy.io import fits"
   ]
  },
  {
   "cell_type": "code",
   "execution_count": 2,
   "metadata": {},
   "outputs": [
    {
     "name": "stdout",
     "output_type": "stream",
     "text": [
      "19727\n"
     ]
    }
   ],
   "source": [
    "complete_data = pd.read_csv('Data/all_data_sim.csv')['COADD_OBJECT_ID'] #only column with ID\n",
    "print(len(complete_data))\n",
    "data = complete_data.sample(n = 16000) #select random sample"
   ]
  },
  {
   "cell_type": "code",
   "execution_count": 3,
   "metadata": {},
   "outputs": [],
   "source": [
    "y = np.zeros((1,3,46,46))\n",
    "cutout_path = '/Users/jimenagonzalez/research/DSPL/Simulations-Double-Source-Gravitational-Lensing/Data/lens_cutouts/'\n",
    "bands = ['g', 'r', 'i']\n",
    "for point in data:\n",
    "    for band in bands:\n",
    "        complete_path = cutout_path + str(point) + '_' + band + '.fits'\n",
    "        if(os.path.exists(complete_path) == False):\n",
    "            continue\n",
    "        with fits.open(complete_path) as hdul:\n",
    "            if complete_path[-6:] == 'g.fits': cutout_g = hdul[0].data\n",
    "            if complete_path[-6:] == 'i.fits': cutout_i = hdul[0].data\n",
    "            if complete_path[-6:] == 'r.fits': cutout_r = hdul[0].data\n",
    "    ele_cut = np.array([cutout_g, cutout_r, cutout_i])\n",
    "    y = np.append(y, [ele_cut], axis = 0)\n",
    "y = np.delete(y, 0, axis = 0)"
   ]
  },
  {
   "cell_type": "code",
   "execution_count": 4,
   "metadata": {},
   "outputs": [
    {
     "ename": "SyntaxError",
     "evalue": "invalid syntax (<ipython-input-4-68dfa3ef5e49>, line 5)",
     "output_type": "error",
     "traceback": [
      "\u001b[0;36m  File \u001b[0;32m\"<ipython-input-4-68dfa3ef5e49>\"\u001b[0;36m, line \u001b[0;32m5\u001b[0m\n\u001b[0;31m    bell -n notify print('hello')\u001b[0m\n\u001b[0m                 ^\u001b[0m\n\u001b[0;31mSyntaxError\u001b[0m\u001b[0;31m:\u001b[0m invalid syntax\n"
     ]
    }
   ],
   "source": [
    "primary = fits.PrimaryHDU()\n",
    "image = fits.ImageHDU(y, name=\"IMAGE\")\n",
    "hdu_list = fits.HDUList([primary, image])\n",
    "hdu_list.writeto('Data/Sim_complete/negative_cases.fits', overwrite=True)\n",
    "#bell -n notify print('hello')"
   ]
  },
  {
   "cell_type": "code",
   "execution_count": null,
   "metadata": {},
   "outputs": [],
   "source": [
    "bell -n say"
   ]
  }
 ],
 "metadata": {
  "kernelspec": {
   "display_name": "Python 3",
   "language": "python",
   "name": "python3"
  },
  "language_info": {
   "codemirror_mode": {
    "name": "ipython",
    "version": 3
   },
   "file_extension": ".py",
   "mimetype": "text/x-python",
   "name": "python",
   "nbconvert_exporter": "python",
   "pygments_lexer": "ipython3",
   "version": "3.7.7"
  }
 },
 "nbformat": 4,
 "nbformat_minor": 4
}
