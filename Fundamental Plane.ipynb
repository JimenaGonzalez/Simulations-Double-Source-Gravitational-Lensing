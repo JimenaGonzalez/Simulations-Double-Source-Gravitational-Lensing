{
 "cells": [
  {
   "cell_type": "code",
   "execution_count": 1,
   "metadata": {},
   "outputs": [],
   "source": [
    "import numpy as np\n",
    "import pandas as pd\n",
    "\n",
    "import matplotlib.pyplot as plt\n",
    "from scipy.interpolate import interp1d\n",
    "\n",
    "import astropy.units as u\n",
    "from astropy.cosmology import FlatLambdaCDM"
   ]
  },
  {
   "cell_type": "markdown",
   "metadata": {},
   "source": [
    "# Faber-Jackson relation:\n",
    "\n",
    "[Faber-Jackson relation](https://iopscience.iop.org/article/10.3847/1538-4357/aa6540/pdf): On the Origin of the Fundamental Plane and Faber–Jackson Relations: Implications forthe Star Formation Problem. D'Onofrio, Cariddi, et al. The values of the slope and intercept are measured using the right plot of the Figure 7, where the early-type galaxies are represented by black dots."
   ]
  },
  {
   "cell_type": "code",
   "execution_count": 2,
   "metadata": {},
   "outputs": [],
   "source": [
    "cosmo = FlatLambdaCDM(H0=70, Om0=0.3, Tcmb0=2.725)\n",
    "\n",
    "# Faber - Jackson relation\n",
    "def luminosity_function(sigma):\n",
    "    a, b = 2.01, 5.77 #slope and intercept for V-band\n",
    "    L = 10**(a*np.log10(sigma) + b)\n",
    "    return L #in solar luminosities\n",
    "\n",
    "M_solar = 4.74 #Absolute magnitude of the Sun\n",
    "\n",
    "def absolute_magnitude(L):\n",
    "    M = M_solar - 2.5*np.log10(L)\n",
    "    return M\n",
    "\n",
    "def apparent_magnitude(M, z, k):\n",
    "    m = M + cosmo.distmod(z).value + k\n",
    "    return(m)\n",
    "\n",
    "def angular_diameter(sigma, z, m, k):\n",
    "    #[effective_radius] = kpc, [vel_dispersion]=km/s\n",
    "    a, b, c = 1.4043, 0.3045, -8.8579 #orthogonal fit for g band\n",
    "    D = cosmo.angular_diameter_distance(z).to(u.kpc).value\n",
    "    first = (60*60*180*sigma**a)/(D*np.pi)\n",
    "    second = (2*np.pi)**(2.5*b)/(1+z)**(10*b)\n",
    "    third = 10**(b*m - b*k + c)\n",
    "    re =  (first*second*third)**(1/(1-5*b))\n",
    "    return(re)"
   ]
  },
  {
   "cell_type": "code",
   "execution_count": 3,
   "metadata": {},
   "outputs": [],
   "source": [
    "def k_correction(b):\n",
    "    filter_file = 'k_values/{}_passband.csv'.format(b)\n",
    "    data = pd.read_csv(filter_file, names=['r', 'z', 'k'],\n",
    "                           delim_whitespace=True, comment='#')\n",
    "    function_kcorrection = interp1d(data['z'].values[1:], data['k'].values[1:], \n",
    "        fill_value=0.0)\n",
    "    return(function_kcorrection)"
   ]
  },
  {
   "cell_type": "code",
   "execution_count": 4,
   "metadata": {},
   "outputs": [
    {
     "name": "stdout",
     "output_type": "stream",
     "text": [
      "Luminosity in solar units: 4.34e+10\n",
      "Table luminosity in solar units: 2.04e+11\n",
      "Absolute Magnitude: -2.19e+01\n",
      "Apparent magnitude:19.217377086585756\n",
      "Angular diameter (angular size) in arc seconds: 1.0085574798109804\n",
      "Table angular diameter (angular size) in arc seconds: 2.9\n"
     ]
    }
   ],
   "source": [
    "# https://iopscience.iop.org/article/10.1086/589327/pdf (Table 4)\n",
    "# Galaxy with Plate-MJD-Fiber ID: 1387-53118-532\n",
    "band, z, sigma = 'g', 0.3583, 264\n",
    "k = k_correction('g')(z)\n",
    "L_table, re_table = 204*10**9, 2.90\n",
    "L = luminosity_function(sigma)\n",
    "M = absolute_magnitude(L)\n",
    "m = apparent_magnitude(M, z, k)\n",
    "re = angular_diameter(sigma, z, m, k)\n",
    "print(\"Luminosity in solar units: %.2e\"%(L))\n",
    "print(\"Table luminosity in solar units: %.2e\"%(L_table))\n",
    "print(\"Absolute Magnitude: %.2e\"%(M))\n",
    "print(\"Apparent magnitude:\" +str(m))\n",
    "print(\"Angular diameter (angular size) in arc seconds: \" + str(re))\n",
    "print(\"Table angular diameter (angular size) in arc seconds: \" + str(re_table))"
   ]
  },
  {
   "cell_type": "code",
   "execution_count": 5,
   "metadata": {
    "scrolled": true
   },
   "outputs": [
    {
     "data": {
      "text/html": [
       "<div>\n",
       "<style scoped>\n",
       "    .dataframe tbody tr th:only-of-type {\n",
       "        vertical-align: middle;\n",
       "    }\n",
       "\n",
       "    .dataframe tbody tr th {\n",
       "        vertical-align: top;\n",
       "    }\n",
       "\n",
       "    .dataframe thead th {\n",
       "        text-align: right;\n",
       "    }\n",
       "</style>\n",
       "<table border=\"1\" class=\"dataframe\">\n",
       "  <thead>\n",
       "    <tr style=\"text-align: right;\">\n",
       "      <th></th>\n",
       "      <th>SDSS</th>\n",
       "      <th>Plate</th>\n",
       "      <th>MJD</th>\n",
       "      <th>Fiber</th>\n",
       "      <th>zFG</th>\n",
       "      <th>zBG</th>\n",
       "      <th>Imag</th>\n",
       "      <th>n_Imag</th>\n",
       "      <th>AI</th>\n",
       "      <th>Name</th>\n",
       "      <th>...</th>\n",
       "      <th>PA</th>\n",
       "      <th>sigma</th>\n",
       "      <th>e_sigma</th>\n",
       "      <th>Mph</th>\n",
       "      <th>Mul</th>\n",
       "      <th>Lens</th>\n",
       "      <th>n_Lens</th>\n",
       "      <th>Sloan</th>\n",
       "      <th>_RA</th>\n",
       "      <th>_DE</th>\n",
       "    </tr>\n",
       "  </thead>\n",
       "  <tbody>\n",
       "    <tr>\n",
       "      <th>0</th>\n",
       "      <td>000802.96-000408.2</td>\n",
       "      <td>669</td>\n",
       "      <td>52559</td>\n",
       "      <td>156</td>\n",
       "      <td>0.4400</td>\n",
       "      <td>1.1924</td>\n",
       "      <td>18.65</td>\n",
       "      <td>d</td>\n",
       "      <td>0.12</td>\n",
       "      <td>J0008-0004</td>\n",
       "      <td>...</td>\n",
       "      <td>27.3</td>\n",
       "      <td></td>\n",
       "      <td></td>\n",
       "      <td>E</td>\n",
       "      <td>S</td>\n",
       "      <td>A</td>\n",
       "      <td></td>\n",
       "      <td>Sloan</td>\n",
       "      <td>2.01233</td>\n",
       "      <td>-0.06894</td>\n",
       "    </tr>\n",
       "    <tr>\n",
       "      <th>1</th>\n",
       "      <td>002817.87-092934.3</td>\n",
       "      <td>653</td>\n",
       "      <td>52145</td>\n",
       "      <td>590</td>\n",
       "      <td>0.0565</td>\n",
       "      <td>0.7146</td>\n",
       "      <td>13.75</td>\n",
       "      <td>s</td>\n",
       "      <td>0.07</td>\n",
       "      <td>J0028-0929</td>\n",
       "      <td>...</td>\n",
       "      <td>78.9</td>\n",
       "      <td>147</td>\n",
       "      <td>7</td>\n",
       "      <td>L</td>\n",
       "      <td>S</td>\n",
       "      <td>X</td>\n",
       "      <td></td>\n",
       "      <td>Sloan</td>\n",
       "      <td>7.07446</td>\n",
       "      <td>-9.49286</td>\n",
       "    </tr>\n",
       "    <tr>\n",
       "      <th>2</th>\n",
       "      <td>002907.77-005550.5</td>\n",
       "      <td>391</td>\n",
       "      <td>51782</td>\n",
       "      <td>88</td>\n",
       "      <td>0.2270</td>\n",
       "      <td>0.9313</td>\n",
       "      <td>17.09</td>\n",
       "      <td>d</td>\n",
       "      <td>0.04</td>\n",
       "      <td>J0029-0055</td>\n",
       "      <td>...</td>\n",
       "      <td>26.6</td>\n",
       "      <td>229</td>\n",
       "      <td>18</td>\n",
       "      <td>E</td>\n",
       "      <td>S</td>\n",
       "      <td>A</td>\n",
       "      <td></td>\n",
       "      <td>Sloan</td>\n",
       "      <td>7.28237</td>\n",
       "      <td>-0.93069</td>\n",
       "    </tr>\n",
       "    <tr>\n",
       "      <th>3</th>\n",
       "      <td>003753.21-094220.1</td>\n",
       "      <td>655</td>\n",
       "      <td>52162</td>\n",
       "      <td>392</td>\n",
       "      <td>0.1955</td>\n",
       "      <td>0.6322</td>\n",
       "      <td>16.26</td>\n",
       "      <td>s</td>\n",
       "      <td>0.06</td>\n",
       "      <td>J0037-0942</td>\n",
       "      <td>...</td>\n",
       "      <td>11.4</td>\n",
       "      <td>279</td>\n",
       "      <td>14</td>\n",
       "      <td>E</td>\n",
       "      <td>S</td>\n",
       "      <td>A</td>\n",
       "      <td></td>\n",
       "      <td>Sloan</td>\n",
       "      <td>9.47171</td>\n",
       "      <td>-9.70558</td>\n",
       "    </tr>\n",
       "    <tr>\n",
       "      <th>4</th>\n",
       "      <td>004402.90+011312.6</td>\n",
       "      <td>393</td>\n",
       "      <td>51794</td>\n",
       "      <td>456</td>\n",
       "      <td>0.1196</td>\n",
       "      <td>0.1965</td>\n",
       "      <td>15.73</td>\n",
       "      <td>s</td>\n",
       "      <td>0.04</td>\n",
       "      <td>J0044+0113</td>\n",
       "      <td>...</td>\n",
       "      <td>151.3</td>\n",
       "      <td>266</td>\n",
       "      <td>13</td>\n",
       "      <td>E</td>\n",
       "      <td>S</td>\n",
       "      <td>A</td>\n",
       "      <td></td>\n",
       "      <td>Sloan</td>\n",
       "      <td>11.01208</td>\n",
       "      <td>1.22017</td>\n",
       "    </tr>\n",
       "  </tbody>\n",
       "</table>\n",
       "<p>5 rows × 24 columns</p>\n",
       "</div>"
      ],
      "text/plain": [
       "                 SDSS  Plate    MJD  Fiber     zFG     zBG   Imag n_Imag  \\\n",
       "0  000802.96-000408.2    669  52559    156  0.4400  1.1924  18.65      d   \n",
       "1  002817.87-092934.3    653  52145    590  0.0565  0.7146  13.75      s   \n",
       "2  002907.77-005550.5    391  51782     88  0.2270  0.9313  17.09      d   \n",
       "3  003753.21-094220.1    655  52162    392  0.1955  0.6322  16.26      s   \n",
       "4  004402.90+011312.6    393  51794    456  0.1196  0.1965  15.73      s   \n",
       "\n",
       "     AI        Name  ...     PA sigma e_sigma Mph Mul Lens n_Lens  Sloan  \\\n",
       "0  0.12  J0008-0004  ...   27.3                 E   S    A         Sloan   \n",
       "1  0.07  J0028-0929  ...   78.9   147       7   L   S    X         Sloan   \n",
       "2  0.04  J0029-0055  ...   26.6   229      18   E   S    A         Sloan   \n",
       "3  0.06  J0037-0942  ...   11.4   279      14   E   S    A         Sloan   \n",
       "4  0.04  J0044+0113  ...  151.3   266      13   E   S    A         Sloan   \n",
       "\n",
       "        _RA      _DE  \n",
       "0   2.01233 -0.06894  \n",
       "1   7.07446 -9.49286  \n",
       "2   7.28237 -0.93069  \n",
       "3   9.47171 -9.70558  \n",
       "4  11.01208  1.22017  \n",
       "\n",
       "[5 rows x 24 columns]"
      ]
     },
     "execution_count": 5,
     "metadata": {},
     "output_type": "execute_result"
    }
   ],
   "source": [
    "data = pd.read_csv('data.csv',delimiter='\\t',encoding='utf-8')\n",
    "data.head()"
   ]
  },
  {
   "cell_type": "code",
   "execution_count": 6,
   "metadata": {},
   "outputs": [],
   "source": [
    "new_data, L_histogram, re_histogram = [], [], []\n",
    "for index, row in data.iterrows():\n",
    "    z, sigma = float(row['zFG']), row['sigma']\n",
    "    k = k_correction('g')(z)\n",
    "    L_table, re_table = row['L(V555)'], row['Re'] # Luminosity in V555 band\n",
    "    if(sigma!='   ' and L_table!='   ' and re_table!='   '):\n",
    "        sigma, L_table, re_table = float(sigma), float(L_table)*10**9, float(re_table)\n",
    "        L = luminosity_function(sigma)\n",
    "        M = absolute_magnitude(L)\n",
    "        m = apparent_magnitude(M, z, k)\n",
    "        re = angular_diameter(sigma, z, m, k)\n",
    "        new_data.append([z, sigma, L_table, L, m, re_table, re])\n",
    "        L_histogram.append(L/L_table)\n",
    "        re_histogram.append(re/re_table)\n",
    "new_data = pd.DataFrame(new_data, columns = ['z', 'Sigma (km/s)',\n",
    "                        'L table (Lo)', 'L (Lo)', 'm (mag.s)', \n",
    "                        're table (arcs)', 're (arcs)'])"
   ]
  },
  {
   "cell_type": "code",
   "execution_count": 7,
   "metadata": {},
   "outputs": [
    {
     "data": {
      "text/html": [
       "<div>\n",
       "<style scoped>\n",
       "    .dataframe tbody tr th:only-of-type {\n",
       "        vertical-align: middle;\n",
       "    }\n",
       "\n",
       "    .dataframe tbody tr th {\n",
       "        vertical-align: top;\n",
       "    }\n",
       "\n",
       "    .dataframe thead th {\n",
       "        text-align: right;\n",
       "    }\n",
       "</style>\n",
       "<table border=\"1\" class=\"dataframe\">\n",
       "  <thead>\n",
       "    <tr style=\"text-align: right;\">\n",
       "      <th></th>\n",
       "      <th>z</th>\n",
       "      <th>Sigma (km/s)</th>\n",
       "      <th>L table (Lo)</th>\n",
       "      <th>L (Lo)</th>\n",
       "      <th>m (mag.s)</th>\n",
       "      <th>re table (arcs)</th>\n",
       "      <th>re (arcs)</th>\n",
       "    </tr>\n",
       "  </thead>\n",
       "  <tbody>\n",
       "    <tr>\n",
       "      <th>0</th>\n",
       "      <td>0.0565</td>\n",
       "      <td>147.0</td>\n",
       "      <td>9.280000e+10</td>\n",
       "      <td>1.337543e+10</td>\n",
       "      <td>16.374648</td>\n",
       "      <td>15.21</td>\n",
       "      <td>4.007610</td>\n",
       "    </tr>\n",
       "    <tr>\n",
       "      <th>1</th>\n",
       "      <td>0.2270</td>\n",
       "      <td>229.0</td>\n",
       "      <td>7.630000e+10</td>\n",
       "      <td>3.260388e+10</td>\n",
       "      <td>18.499556</td>\n",
       "      <td>2.16</td>\n",
       "      <td>1.343514</td>\n",
       "    </tr>\n",
       "    <tr>\n",
       "      <th>2</th>\n",
       "      <td>0.1955</td>\n",
       "      <td>279.0</td>\n",
       "      <td>1.205000e+11</td>\n",
       "      <td>4.849137e+10</td>\n",
       "      <td>17.733069</td>\n",
       "      <td>2.19</td>\n",
       "      <td>1.581437</td>\n",
       "    </tr>\n",
       "    <tr>\n",
       "      <th>3</th>\n",
       "      <td>0.1196</td>\n",
       "      <td>266.0</td>\n",
       "      <td>6.880000e+10</td>\n",
       "      <td>4.405671e+10</td>\n",
       "      <td>16.739301</td>\n",
       "      <td>2.61</td>\n",
       "      <td>2.349155</td>\n",
       "    </tr>\n",
       "    <tr>\n",
       "      <th>4</th>\n",
       "      <td>0.2939</td>\n",
       "      <td>251.0</td>\n",
       "      <td>7.720000e+10</td>\n",
       "      <td>3.920525e+10</td>\n",
       "      <td>18.880879</td>\n",
       "      <td>1.38</td>\n",
       "      <td>1.137934</td>\n",
       "    </tr>\n",
       "  </tbody>\n",
       "</table>\n",
       "</div>"
      ],
      "text/plain": [
       "        z  Sigma (km/s)  L table (Lo)        L (Lo)  m (mag.s)  \\\n",
       "0  0.0565         147.0  9.280000e+10  1.337543e+10  16.374648   \n",
       "1  0.2270         229.0  7.630000e+10  3.260388e+10  18.499556   \n",
       "2  0.1955         279.0  1.205000e+11  4.849137e+10  17.733069   \n",
       "3  0.1196         266.0  6.880000e+10  4.405671e+10  16.739301   \n",
       "4  0.2939         251.0  7.720000e+10  3.920525e+10  18.880879   \n",
       "\n",
       "   re table (arcs)  re (arcs)  \n",
       "0            15.21   4.007610  \n",
       "1             2.16   1.343514  \n",
       "2             2.19   1.581437  \n",
       "3             2.61   2.349155  \n",
       "4             1.38   1.137934  "
      ]
     },
     "execution_count": 7,
     "metadata": {},
     "output_type": "execute_result"
    }
   ],
   "source": [
    "new_data.head()"
   ]
  },
  {
   "cell_type": "code",
   "execution_count": 8,
   "metadata": {},
   "outputs": [
    {
     "data": {
      "image/png": "[encoded data removed]",
      "text/plain": [
       "<Figure size 432x360 with 1 Axes>"
      ]
     },
     "metadata": {
      "needs_background": "light"
     },
     "output_type": "display_data"
    }
   ],
   "source": [
    "# Histogram of Luminosity calculated/Luminosity from table\n",
    "bins = np.logspace(-1, 1, 50)\n",
    "widths = (bins[1:] - bins[:-1])\n",
    "hist = np.histogram(L_histogram, bins=bins)\n",
    "# normalize by bin width\n",
    "hist_norm = hist[0]/widths\n",
    "\n",
    "plt.figure(figsize=(6,5))\n",
    "plt.title('Histogram of L/L table')\n",
    "plt.bar(bins[:-1], hist_norm, widths)\n",
    "plt.xlabel('L/L table')\n",
    "plt.xscale('log')\n",
    "plt.yscale('log')\n",
    "plt.show()"
   ]
  },
  {
   "cell_type": "code",
   "execution_count": 9,
   "metadata": {},
   "outputs": [
    {
     "data": {
      "image/png": "[encoded data removed]",
      "text/plain": [
       "<Figure size 432x360 with 1 Axes>"
      ]
     },
     "metadata": {
      "needs_background": "light"
     },
     "output_type": "display_data"
    }
   ],
   "source": [
    "# Histogram of angular diameter calculated/angular diameter from table\n",
    "bins = np.logspace(-1, 1, 50)\n",
    "widths = (bins[1:] - bins[:-1])\n",
    "hist = np.histogram(re_histogram, bins=bins)\n",
    "# normalize by bin width\n",
    "hist_norm = hist[0]/widths\n",
    "\n",
    "plt.figure(figsize=(6,5))\n",
    "plt.title('Histogram of re/re table')\n",
    "plt.bar(bins[:-1], hist_norm, widths)\n",
    "plt.xlabel('re/re table')\n",
    "plt.xscale('log')\n",
    "plt.yscale('log')\n",
    "plt.show()"
   ]
  },
  {
   "cell_type": "code",
   "execution_count": 10,
   "metadata": {},
   "outputs": [],
   "source": [
    "z_plot, sigma_plot, L_plot = [], [], []\n",
    "for index, row in data.iterrows():\n",
    "    z, sigma = float(row['zFG']), row['sigma']\n",
    "    k = k_correction('g')(z) \n",
    "    L_table, re_table = row['L(V555)'], row['Re'] #Luminosity in V555 band\n",
    "    if(sigma!='   ' and L_table!='   ' and re_table!='   '):\n",
    "        sigma, L_table, re_table = float(sigma), float(L_table)*10**9, float(re_table)\n",
    "        L = luminosity_function(sigma)\n",
    "        M = absolute_magnitude(L)\n",
    "        m = apparent_magnitude(M, z, k)\n",
    "        re = angular_diameter(sigma, z, m, k)\n",
    "        z_plot.append(z)\n",
    "        sigma_plot.append(sigma)\n",
    "        L_plot.append(L/L_table)"
   ]
  },
  {
   "cell_type": "code",
   "execution_count": 11,
   "metadata": {},
   "outputs": [
    {
     "data": {
      "image/png": "[encoded data removed]",
      "text/plain": [
       "<Figure size 432x360 with 1 Axes>"
      ]
     },
     "metadata": {
      "needs_background": "light"
     },
     "output_type": "display_data"
    }
   ],
   "source": [
    "plt.figure(figsize=(6,5))\n",
    "plt.xlabel(\"L/L table\")\n",
    "plt.ylabel(\"z\")\n",
    "plt.xscale('log')\n",
    "plt.scatter(L_plot,z_plot)\n",
    "plt.show()"
   ]
  },
  {
   "cell_type": "code",
   "execution_count": 12,
   "metadata": {},
   "outputs": [
    {
     "data": {
      "image/png": "[encoded data removed]",
      "text/plain": [
       "<Figure size 432x360 with 1 Axes>"
      ]
     },
     "metadata": {
      "needs_background": "light"
     },
     "output_type": "display_data"
    }
   ],
   "source": [
    "plt.figure(figsize=(6,5))\n",
    "plt.xlabel(\"L/L table\")\n",
    "plt.ylabel(\"Velocity of dispersion\")\n",
    "plt.xscale('log')\n",
    "plt.scatter(L_plot, sigma_plot)\n",
    "plt.show()"
   ]
  },
  {
   "cell_type": "code",
   "execution_count": 13,
   "metadata": {},
   "outputs": [
    {
     "data": {
      "image/png": "[encoded data removed]",
      "text/plain": [
       "<Figure size 432x288 with 1 Axes>"
      ]
     },
     "metadata": {
      "needs_background": "light"
     },
     "output_type": "display_data"
    }
   ],
   "source": [
    "# redshift histogram\n",
    "num_bins = 30\n",
    "plt.figure()\n",
    "n, bins, patches = plt.hist(z_plot, num_bins, alpha=0.5)\n",
    "plt.title('Redshift Distribution')\n",
    "plt.xlabel('z')\n",
    "plt.show()"
   ]
  }
 ],
 "metadata": {
  "kernelspec": {
   "display_name": "Python 3",
   "language": "python",
   "name": "python3"
  },
  "language_info": {
   "codemirror_mode": {
    "name": "ipython",
    "version": 3
   },
   "file_extension": ".py",
   "mimetype": "text/x-python",
   "name": "python",
   "nbconvert_exporter": "python",
   "pygments_lexer": "ipython3",
   "version": "3.7.3"
  }
 },
 "nbformat": 4,
 "nbformat_minor": 2
}
