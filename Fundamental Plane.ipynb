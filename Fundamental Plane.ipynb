{
 "cells": [
  {
   "cell_type": "code",
   "execution_count": 1,
   "metadata": {},
   "outputs": [],
   "source": [
    "import random\n",
    "import numpy as np\n",
    "from PIL import Image\n",
    "import matplotlib.pyplot as plt\n",
    "%matplotlib inline\n",
    "from astropy.cosmology import FlatLambdaCDM"
   ]
  },
  {
   "cell_type": "code",
   "execution_count": 2,
   "metadata": {},
   "outputs": [],
   "source": [
    "cosmo = FlatLambdaCDM(H0=70, Om0=0.3, Ob0=0.)\n",
    "\n",
    "# Faber - Jackson relation\n",
    "def luminosity_function(sigma):\n",
    "    a = 2.0 #slope for V-band (for now)\n",
    "    b = 5.8 #intercept for V-band (for now)\n",
    "    L = 10**(a*np.log10(sigma) + b)\n",
    "    return L\n",
    "\n",
    "def bolometric_luminosity(L):\n",
    "    #L is in unit of solar luminosities\n",
    "    L_physical = 3.827*10**26*L #in Watts\n",
    "    print(L_physical)\n",
    "    M_bol = -2.5*np.log10(L_physical) + 71.1974\n",
    "    return(M_bol)\n",
    "\n",
    "def effective_radius(sigma, L):\n",
    "    #[effective_radius] = kpc, [vel_dispersion]=km/s, []\n",
    "    a = 1.4043 #orthogonal fit for g band\n",
    "    b = 0.3045 #orthogonal fit for g band\n",
    "    c = -8.8579 #orthogonal fit for g band\n",
    "    delta_a = 0.02 #uncertainty due to random errors\n",
    "    delta_b = 0.01 #uncertainty due to random errors\n",
    "    # Fundamental plane equation\n",
    "    logRe = (a*np.log10(sigma) + \n",
    "             2.5*b*np.log10((2*np.pi)/L) + c)/(1-5*b)\n",
    "    Re = 10**(logRe)\n",
    "    # Scattering\n",
    "    mu_e = -2.5*np.log10(L/(2*np.pi*Re**2))\n",
    "    sig_scatter = (np.abs(np.log10(sigma))*delta_a**2 +\n",
    "                   np.abs(mu_e)*delta_b**2)**0.5\n",
    "    scatter = np.random.randn()*sig_scatter\n",
    "    return(Re + scatter)\n",
    "\n",
    "#Angular diameter (angular size) in arc seconds\n",
    "def angular_diameter(Re, z):\n",
    "    # Re effective (physical) radius, z redshift of the object, \n",
    "    # D angular diameter distance, re angular diameter in arc seconds\n",
    "    D = FlatLambdaCDM.angular_diameter_distance(cosmo, z)*1000 #in kpc\n",
    "    D = D.value\n",
    "    re = (2*648000*Re)/(np.pi*D)\n",
    "    return re\n",
    "\n",
    "def apparent_magnitude(L, re, Re, z):\n",
    "    m = -2.5*np.log10((L*re**2)/(Re**2*(1+z)**4))\n",
    "    return(m)"
   ]
  },
  {
   "cell_type": "code",
   "execution_count": 3,
   "metadata": {},
   "outputs": [
    {
     "name": "stdout",
     "output_type": "stream",
     "text": [
      "1.6829310219057204e+37\n",
      "Luminosity in solar units: 4.40e+10\n",
      "Bolometric luminosity in magnitudes: -2.19e+01\n",
      "Effective radius in kpc: nan\n",
      "Angular diameter distance in kpc: 1034446.1018771003\n",
      "Angular diameter (angular size) in arc seconds: nan\n",
      "Apparent magnitude:nan\n"
     ]
    },
    {
     "name": "stderr",
     "output_type": "stream",
     "text": [
      "/home/jimenagonzalez/software/anaconda3/lib/python3.7/site-packages/ipykernel_launcher.py:26: RuntimeWarning: invalid value encountered in log10\n"
     ]
    }
   ],
   "source": [
    "# https://iopscience.iop.org/article/10.1086/589327/pdf (Table 4)\n",
    "# Galaxy with Plate-MJD-Fiber ID: 1387-53118-532\n",
    "z = 0.3583\n",
    "sigma = 264\n",
    "L = luminosity_function(sigma)\n",
    "M_bol = bolometric_luminosity(L)\n",
    "Re = effective_radius(sigma, M_bol)\n",
    "re = angular_diameter(Re, z)\n",
    "D = (FlatLambdaCDM.angular_diameter_distance(cosmo, z)*1000).value\n",
    "m = apparent_magnitude(M_bol, re, Re, z)\n",
    "print(\"Luminosity in solar units: %.2e\"%(L))\n",
    "print(\"Bolometric luminosity in magnitudes: %.2e\"%(M_bol))\n",
    "print(\"Effective radius in kpc: \" + str(Re))\n",
    "print(\"Angular diameter distance in kpc: \" + str(D))\n",
    "print(\"Angular diameter (angular size) in arc seconds: \" + str(re))\n",
    "print(\"Apparent magnitude:\" +str(m))"
   ]
  },
  {
   "cell_type": "code",
   "execution_count": 4,
   "metadata": {},
   "outputs": [
    {
     "name": "stdout",
     "output_type": "stream",
     "text": [
      "Luminosity in solar units: 204000000000\n",
      "Effective radius in kpc: 5.741307462018119e+25\n",
      "Angular diameter distance in kpc: 1034446.1018771003\n",
      "Angular diameter (angular size) in arc seconds: 2.2895918291137243e+25\n",
      "Apparent magnitude:-24.947854718907827\n"
     ]
    }
   ],
   "source": [
    "z = 0.3583\n",
    "sigma = 264\n",
    "L = 204*10**9\n",
    "Re = effective_radius(sigma, L)\n",
    "re = angular_diameter(Re, z)\n",
    "D = (FlatLambdaCDM.angular_diameter_distance(cosmo, z)*1000).value\n",
    "m = apparent_magnitude(L, re, Re, z)\n",
    "print(\"Luminosity in solar units: \" + str(L))\n",
    "print(\"Effective radius in kpc: \" + str(Re))\n",
    "print(\"Angular diameter distance in kpc: \" + str(D))\n",
    "print(\"Angular diameter (angular size) in arc seconds: \" + str(re))\n",
    "print(\"Apparent magnitude:\" +str(m))"
   ]
  },
  {
   "cell_type": "code",
   "execution_count": 5,
   "metadata": {},
   "outputs": [
    {
     "name": "stdout",
     "output_type": "stream",
     "text": [
      "Luminosity in solar units: 4.40e+10\n",
      "Bolometric luminosity in magnitudes: -2.19e+01\n",
      "Effective radius in kpc: 6.138679311582908e+24\n",
      "Angular diameter distance in kpc: 1034446.1018771003\n",
      "Angular diameter (angular size) in arc seconds: 2.448060844386342e+24\n",
      "Apparent magnitude:-26.608019634349155\n"
     ]
    }
   ],
   "source": [
    "z = 0.3583\n",
    "sigma = 264\n",
    "L = luminosity_function(sigma)\n",
    "m = -2.5*np.log10(L)\n",
    "#M_bol = bolometric_luminosity(L)\n",
    "Re = effective_radius(sigma, L)\n",
    "re = angular_diameter(Re, z)\n",
    "D = (FlatLambdaCDM.angular_diameter_distance(cosmo, z)*1000).value\n",
    "#m = apparent_magnitude(M_bol, re, Re, z)\n",
    "print(\"Luminosity in solar units: %.2e\"%(L))\n",
    "print(\"Bolometric luminosity in magnitudes: %.2e\"%(M_bol))\n",
    "print(\"Effective radius in kpc: \" + str(Re))\n",
    "print(\"Angular diameter distance in kpc: \" + str(D))\n",
    "print(\"Angular diameter (angular size) in arc seconds: \" + str(re))\n",
    "print(\"Apparent magnitude:\" +str(m))"
   ]
  },
  {
   "cell_type": "code",
   "execution_count": 7,
   "metadata": {},
   "outputs": [
    {
     "name": "stdout",
     "output_type": "stream",
     "text": [
      "43.97520308089157\n",
      "Luminosity in solar units: 4.40e+01\n",
      "Bolometric luminosity in magnitudes: -2.19e+01\n",
      "Effective radius in kpc: 473843311521.081\n",
      "Angular diameter distance in kpc: 1034446.1018771003\n",
      "Angular diameter (angular size) in arc seconds: 188965280385.3674\n",
      "Apparent magnitude:-0.7817989346922373\n"
     ]
    }
   ],
   "source": [
    "z = 0.3583\n",
    "sigma = 264\n",
    "#L = luminosity_function(sigma)/(3.827*10**26)\n",
    "L = luminosity_function(sigma)/(10**9)\n",
    "print(L)\n",
    "Re = effective_radius(sigma, L)\n",
    "re = angular_diameter(Re, z)\n",
    "D = (FlatLambdaCDM.angular_diameter_distance(cosmo, z)*1000).value\n",
    "m = apparent_magnitude(L, re, Re, z)\n",
    "print(\"Luminosity in solar units: %.2e\"%(L))\n",
    "print(\"Bolometric luminosity in magnitudes: %.2e\"%(M_bol))\n",
    "print(\"Effective radius in kpc: \" + str(Re))\n",
    "print(\"Angular diameter distance in kpc: \" + str(D))\n",
    "print(\"Angular diameter (angular size) in arc seconds: \" + str(re))\n",
    "print(\"Apparent magnitude:\" +str(m))"
   ]
  },
  {
   "cell_type": "code",
   "execution_count": null,
   "metadata": {},
   "outputs": [],
   "source": []
  },
  {
   "cell_type": "code",
   "execution_count": null,
   "metadata": {},
   "outputs": [],
   "source": []
  }
 ],
 "metadata": {
  "kernelspec": {
   "display_name": "Python 3",
   "language": "python",
   "name": "python3"
  },
  "language_info": {
   "codemirror_mode": {
    "name": "ipython",
    "version": 3
   },
   "file_extension": ".py",
   "mimetype": "text/x-python",
   "name": "python",
   "nbconvert_exporter": "python",
   "pygments_lexer": "ipython3",
   "version": "3.7.3"
  }
 },
 "nbformat": 4,
 "nbformat_minor": 2
}
