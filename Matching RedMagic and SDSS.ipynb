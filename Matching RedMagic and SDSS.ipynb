{
 "cells": [
  {
   "cell_type": "code",
   "execution_count": 1,
   "metadata": {},
   "outputs": [],
   "source": [
    "import numpy as np\n",
    "import astropy.io.fits as pyfits\n",
    "from astropy.table import Table\n",
    "import pylab\n",
    "import matplotlib.pyplot as plt\n",
    "import pandas as pd\n",
    "import csv"
   ]
  },
  {
   "cell_type": "code",
   "execution_count": 2,
   "metadata": {},
   "outputs": [],
   "source": [
    "infile_redmagic = 'Data/y3_gold_2.2.1_wide_sofcol+deep_mof_run_redmagic_highdens.fit'\n",
    "reader_redmagic = pyfits.open(infile_redmagic)\n",
    "#print(reader_redmagic[1].header)\n",
    "d_redmagic = reader_redmagic[1].data"
   ]
  },
  {
   "cell_type": "code",
   "execution_count": 3,
   "metadata": {},
   "outputs": [
    {
     "data": {
      "text/plain": [
       "<Table length=2766815>\n",
       "     name       dtype  shape\n",
       "-------------- ------- -----\n",
       "            id   int64      \n",
       "            ra float64      \n",
       "           dec float64      \n",
       "        refmag float32      \n",
       "    refmag_err float32      \n",
       "           mag float32  (4,)\n",
       "       mag_err float32  (4,)\n",
       "           lum float32      \n",
       "     zredmagic float32      \n",
       "   zredmagic_e float32      \n",
       "zredmagic_samp float32  (4,)\n",
       "         chisq float32      \n",
       "         zspec float32      "
      ]
     },
     "execution_count": 3,
     "metadata": {},
     "output_type": "execute_result"
    }
   ],
   "source": [
    "data = Table.read(infile_redmagic, format='fits')\n",
    "data.info"
   ]
  },
  {
   "cell_type": "code",
   "execution_count": 4,
   "metadata": {},
   "outputs": [
    {
     "name": "stdout",
     "output_type": "stream",
     "text": [
      "49290\n"
     ]
    }
   ],
   "source": [
    "d_redmagic = d_redmagic[d_redmagic['zspec'] > 0.]\n",
    "d_redmagic = d_redmagic[d_redmagic['dec'] > -10.]\n",
    "print(len(d_redmagic))"
   ]
  },
  {
   "cell_type": "code",
   "execution_count": 5,
   "metadata": {},
   "outputs": [
    {
     "name": "stdout",
     "output_type": "stream",
     "text": [
      "XTENSION= 'BINTABLE'                                                            BITPIX  =                    8                                                  NAXIS   =                    2                                                  NAXIS1  =                   32                                                  NAXIS2  =              1169508                                                  PCOUNT  =                    0                                                  GCOUNT  =                    1                                                  TFIELDS =                    6                                                  TFORM1  = '1D'                                                                  TTYPE1  = 'ra'                                                                  TFORM2  = '1D'                                                                  TTYPE2  = 'dec'                                                                 TFORM3  = '1E'                                                                  TTYPE3  = 'z'                                                                   TFORM4  = '1E'                                                                  TTYPE4  = 'zErr'                                                                TFORM5  = '1E'                                                                  TTYPE5  = 'velDisp'                                                             TFORM6  = '1E'                                                                  TTYPE6  = 'velDispErr'                                                          END                                                                                                                                                                                                                                                                                                                                                                                                                                                                                                                                                                                                                                                                                                                                                                                                                                                                                                                                                                                                                                                                                                                                                                                                                                                                                                                             \n"
     ]
    }
   ],
   "source": [
    "reader_boss = pyfits.open('data/sdss_velocity_dispersion.fits')\n",
    "print(reader_boss[1].header)\n",
    "d_veldisp = reader_boss[1].data"
   ]
  },
  {
   "cell_type": "code",
   "execution_count": 6,
   "metadata": {},
   "outputs": [
    {
     "data": {
      "text/plain": [
       "<Table length=1169508>\n",
       "   name     dtype \n",
       "---------- -------\n",
       "        ra float64\n",
       "       dec float64\n",
       "         z float32\n",
       "      zErr float32\n",
       "   velDisp float32\n",
       "velDispErr float32"
      ]
     },
     "execution_count": 6,
     "metadata": {},
     "output_type": "execute_result"
    }
   ],
   "source": [
    "data = Table.read('data/sdss_velocity_dispersion.fits', format='fits')\n",
    "data.info"
   ]
  },
  {
   "cell_type": "code",
   "execution_count": 7,
   "metadata": {},
   "outputs": [
    {
     "name": "stdout",
     "output_type": "stream",
     "text": [
      "117545\n"
     ]
    },
    {
     "name": "stderr",
     "output_type": "stream",
     "text": [
      "/Users/jimenagonzalez/Software/miniconda3/lib/python3.7/site-packages/ipykernel_launcher.py:3: RuntimeWarning: invalid value encountered in true_divide\n",
      "  This is separate from the ipykernel package so we can avoid doing imports until\n",
      "/Users/jimenagonzalez/Software/miniconda3/lib/python3.7/site-packages/ipykernel_launcher.py:3: RuntimeWarning: invalid value encountered in greater\n",
      "  This is separate from the ipykernel package so we can avoid doing imports until\n"
     ]
    }
   ],
   "source": [
    "d_veldisp = d_veldisp[d_veldisp['dec'] < 10.]\n",
    "selection = np.logical_not((d_veldisp['ra'] > 90.) & (d_veldisp['ra'] < 270.))\n",
    "selection = selection & ((d_veldisp['velDisp'] / d_veldisp['velDispErr']) > 5.)\n",
    "d_veldisp = d_veldisp[selection]\n",
    "print(len(d_veldisp))"
   ]
  },
  {
   "cell_type": "code",
   "execution_count": 8,
   "metadata": {},
   "outputs": [
    {
     "data": {
      "image/png": "[encoded data removed]",
      "text/plain": [
       "<Figure size 432x288 with 1 Axes>"
      ]
     },
     "metadata": {
      "needs_background": "light"
     },
     "output_type": "display_data"
    }
   ],
   "source": [
    "pylab.figure()\n",
    "#plt.tittle('Both catalogs (Redmagic in red & SDSS in blue)')\n",
    "plt.xlabel('RA')\n",
    "plt.ylabel('DEC')\n",
    "pylab.scatter(d_redmagic['ra'], d_redmagic['dec'], c='red')\n",
    "pylab.scatter(d_veldisp['ra'], d_veldisp['dec'], c='blue')\n",
    "plt.show()"
   ]
  },
  {
   "cell_type": "code",
   "execution_count": 9,
   "metadata": {},
   "outputs": [],
   "source": [
    "from astropy.coordinates import SkyCoord\n",
    "from astropy import units as u\n",
    "\n",
    "def match(lon_1, lat_1, lon_2, lat_2, sep, unique=True):\n",
    "    \"\"\"\n",
    "    Input coordinates and max separation in decimal degrees.\n",
    "    Returns angular separation between pairs in decimal degrees.\n",
    "    If unique is True, consider only the unique closest match.\n",
    "    If unique is False, there can be multiple catalog 1 \n",
    "    objects matched to each catalog 2 object.\n",
    "    \"\"\"\n",
    "    #c_1 and c_2 are a set of coordinates determined by the catalogs\n",
    "    c_1 = SkyCoord(ra=lon_1*u.degree, dec=lat_1*u.degree)\n",
    "    c_2 = SkyCoord(ra=lon_2*u.degree, dec=lat_2*u.degree)\n",
    "    max_sep = sep * u.arcsec\n",
    "    idx_1, d2d, d3d = c_2.match_to_catalog_3d(c_1)\n",
    "    sep_constraint = d2d < max_sep #boolean list\n",
    "    idx_2 = np.nonzero(sep_constraint)[0] #indices of the elements that are 'True' in the boolean list\n",
    "    idx_1 = idx_1[sep_constraint] #a list with the only the elements of idx_1 that satisfy the separation constraint\n",
    "    d2d = d2d[sep_constraint].value\n",
    "    distances = d2d\n",
    "    if unique:\n",
    "        df = pd.DataFrame({'index': idx_1, 'sep': d2d})\n",
    "        idx = df.groupby(['index']).idxmin().values.astype(int)\n",
    "        idx_1, idx_2, d2d = idx_1[idx], idx_2[idx], d2d[idx]\n",
    "    return idx, idx_1, idx_2, d2d, c_2, distances  #c2 will be the smallest catalog"
   ]
  },
  {
   "cell_type": "code",
   "execution_count": 36,
   "metadata": {},
   "outputs": [],
   "source": [
    "# Distribution with respect to the separation\n",
    "sep = np.linspace(0.001,3.3,150)\n",
    "distribution = []\n",
    "lat1, lon1 = d_veldisp['dec'], d_veldisp['ra']\n",
    "lat2, lon2 = d_redmagic['dec'], d_redmagic['ra']\n",
    "for s in sep:\n",
    "    idx, ind1, ind2, d2d, c_2, distances = match(lon1, lat1, lon2, lat2, s, True)\n",
    "    idx, ind1, ind2, d2d = np.array(idx[:,0]), np.array(ind1[:,0]), np.array(ind2[:,0]), np.array(d2d[:,0])\n",
    "    c2_ra, c2_dec = c_2.ra.degree[ind2], c_2.dec.degree[ind2]\n",
    "    distribution.append(len(c2_ra))"
   ]
  },
  {
   "cell_type": "code",
   "execution_count": 37,
   "metadata": {},
   "outputs": [
    {
     "data": {
      "image/png": "[encoded data removed]",
      "text/plain": [
       "<Figure size 432x288 with 1 Axes>"
      ]
     },
     "metadata": {
      "needs_background": "light"
     },
     "output_type": "display_data"
    }
   ],
   "source": [
    "plt.scatter(sep, distribution)\n",
    "plt.xlabel('Separation in degrees')\n",
    "plt.ylabel('Number of galaxies matched')\n",
    "plt.title('Distribution of the matched galaxies with respect to the separation')\n",
    "plt.xlim(0,0.4)\n",
    "plt.show()"
   ]
  },
  {
   "cell_type": "code",
   "execution_count": 38,
   "metadata": {},
   "outputs": [
    {
     "data": {
      "image/png": "[encoded data removed]",
      "text/plain": [
       "<Figure size 432x288 with 1 Axes>"
      ]
     },
     "metadata": {
      "needs_background": "light"
     },
     "output_type": "display_data"
    }
   ],
   "source": [
    "plt.scatter(sep, distribution)\n",
    "plt.xlabel('Separation in degrees')\n",
    "plt.ylabel('Number of galaxies matched')\n",
    "plt.title('Distribution of the matched galaxies with respect to the separation')\n",
    "plt.show()"
   ]
  },
  {
   "cell_type": "code",
   "execution_count": 39,
   "metadata": {},
   "outputs": [
    {
     "name": "stdout",
     "output_type": "stream",
     "text": [
      "20306\n"
     ]
    }
   ],
   "source": [
    "lat1, lon1 = d_veldisp['dec'], d_veldisp['ra']\n",
    "lat2, lon2 = d_redmagic['dec'], d_redmagic['ra']\n",
    "sep = 1 #in Arcseconds\n",
    "idx, ind1, ind2, d2d, c_2, distances = match(lon1, lat1, lon2, lat2, sep, True)\n",
    "idx, ind1, ind2, d2d = np.array(idx[:,0]), np.array(ind1[:,0]), np.array(ind2[:,0]), np.array(d2d[:,0])\n",
    "c2_ra, c2_dec = c_2.ra.degree[ind2], c_2.dec.degree[ind2]\n",
    "with open('coordinates_sep.csv', mode='w') as coordinates_sep:\n",
    "    writer = csv.writer(coordinates_sep, delimiter=',', quotechar='\"', quoting=csv.QUOTE_MINIMAL)\n",
    "    writer.writerow(['RA', 'DEC', 'SEP'])\n",
    "    for i in range(len(c2_ra)):\n",
    "        writer.writerow([c2_ra[i], c2_dec[i], d2d[i]])\n",
    "with open('coordinates.csv', mode='w') as coordinates:\n",
    "    writer = csv.writer(coordinates, delimiter=',', quotechar='\"', quoting=csv.QUOTE_MINIMAL)\n",
    "    writer.writerow(['RA', 'DEC'])\n",
    "    for i in range(len(c2_ra)):\n",
    "        writer.writerow([c2_ra[i], c2_dec[i]])\n",
    "print(len(c2_ra))"
   ]
  },
  {
   "cell_type": "code",
   "execution_count": 40,
   "metadata": {},
   "outputs": [
    {
     "name": "stdout",
     "output_type": "stream",
     "text": [
      "999\n"
     ]
    }
   ],
   "source": [
    "#only 1000 because that's the limit in the cutout tool\n",
    "with open('coordinates.csv', mode='w') as coordinates:\n",
    "    writer = csv.writer(coordinates, delimiter=',', quotechar='\"')\n",
    "    writer.writerow(['RA', 'DEC'])\n",
    "    for i in range(1000):\n",
    "        writer.writerow([c2_ra[i], c2_dec[i]])\n",
    "    print(i)"
   ]
  },
  {
   "cell_type": "code",
   "execution_count": null,
   "metadata": {},
   "outputs": [],
   "source": []
  }
 ],
 "metadata": {
  "kernelspec": {
   "display_name": "Python 3",
   "language": "python",
   "name": "python3"
  },
  "language_info": {
   "codemirror_mode": {
    "name": "ipython",
    "version": 3
   },
   "file_extension": ".py",
   "mimetype": "text/x-python",
   "name": "python",
   "nbconvert_exporter": "python",
   "pygments_lexer": "ipython3",
   "version": "3.7.7"
  }
 },
 "nbformat": 4,
 "nbformat_minor": 4
}
