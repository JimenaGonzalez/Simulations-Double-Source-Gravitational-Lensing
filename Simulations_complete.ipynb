version https://git-lfs.github.com/spec/v1
oid sha256:057a9b65dfdf6c435af25c4cccb3f8785ccdee352195946103d5878087ec98dc
size 174429
