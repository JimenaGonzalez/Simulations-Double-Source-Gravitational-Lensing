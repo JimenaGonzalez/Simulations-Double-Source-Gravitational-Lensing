{
 "cells": [
  {
   "cell_type": "code",
   "execution_count": 1,
   "metadata": {},
   "outputs": [],
   "source": [
    "import os\n",
    "from os import path\n",
    "import numpy as np\n",
    "import copy\n",
    "import pandas as pd\n",
    "\n",
    "from astropy.io import fits\n",
    "import matplotlib.pyplot as plt\n",
    "import matplotlib.ticker as plticker\n",
    "from astropy.visualization import make_lupton_rgb\n",
    "import sys"
   ]
  },
  {
   "cell_type": "code",
   "execution_count": 2,
   "metadata": {},
   "outputs": [],
   "source": [
    "#Makes 3 plots per image: source simulation, lens cutout, complete simulation\n",
    "def make_graphs(sim_i, sim_r, sim_g, cutout_i, cutout_r, cutout_g):\n",
    "    loc = plticker.MultipleLocator(base=3.75)\n",
    "    fig, (ax1, ax2, ax3) = plt.subplots(figsize=(15, 4), ncols=3)\n",
    "\n",
    "    rgb = make_lupton_rgb(sim_i, sim_r, sim_g, Q=11., stretch=40.)\n",
    "    ax1.set_title('Simulation')\n",
    "    ax1.xaxis.set_ticklabels([])\n",
    "    ax1.yaxis.set_ticklabels([])\n",
    "    ax1.xaxis.set_major_locator(loc)\n",
    "    ax1.yaxis.set_major_locator(loc)\n",
    "    ax1.grid(which='major', axis='both', linestyle='-')\n",
    "    original = ax1.imshow(rgb, aspect='equal')\n",
    "    fig.colorbar(original, ax=ax1)\n",
    "\n",
    "    rgb = make_lupton_rgb(cutout_i, cutout_r, cutout_g, Q=11., stretch=40.)\n",
    "    ax2.set_title('Cutout')\n",
    "    ax2.xaxis.set_ticklabels([])\n",
    "    ax2.yaxis.set_ticklabels([])\n",
    "    ax2.xaxis.set_major_locator(loc)\n",
    "    ax2.yaxis.set_major_locator(loc)\n",
    "    ax2.grid(which='major', axis='both', linestyle='-')\n",
    "    cutout = ax2.imshow(rgb, aspect='equal')\n",
    "    fig.colorbar(cutout, ax=ax2)\n",
    "            \n",
    "    rgb = make_lupton_rgb(sim_i+cutout_i, sim_r+cutout_r, sim_g+cutout_g, Q=11., stretch=40.)\n",
    "    ax3.set_title('Complete')\n",
    "    ax3.xaxis.set_ticklabels([])\n",
    "    ax3.yaxis.set_ticklabels([])\n",
    "    ax3.xaxis.set_major_locator(loc)\n",
    "    ax3.yaxis.set_major_locator(loc)\n",
    "    ax3.grid(which='major', axis='both', linestyle='-')\n",
    "    projection = ax3.imshow(rgb, aspect='equal')\n",
    "    fig.colorbar(projection, ax=ax3)\n",
    "        \n",
    "    #plt.savefig('Data/Sim_complete/Image' + new_folder + '.png', bbox_inches='tight')\n",
    "    plt.show() "
   ]
  },
  {
   "cell_type": "code",
   "execution_count": 3,
   "metadata": {},
   "outputs": [],
   "source": [
    "# Picks a random sample of IDs\n",
    "complete_data = pd.read_csv('Data/all_data_sim.csv')['COADD_OBJECT_ID'] \n",
    "def pick_sample(m):\n",
    "    ids = complete_data.sample(n = m)\n",
    "    return(ids)\n",
    "\n",
    "# Writes fit file\n",
    "def write_fit_file(name, x):\n",
    "    primary = fits.PrimaryHDU()\n",
    "    image = fits.ImageHDU(x, name=\"IMAGE\")\n",
    "    hdu_list = fits.HDUList([primary, image])\n",
    "    hdu_list.writeto('Data/Sim_complete/' + name + '.fits', overwrite=True)"
   ]
  },
  {
   "cell_type": "code",
   "execution_count": 4,
   "metadata": {},
   "outputs": [],
   "source": [
    "def complete_simulations(m, ids):\n",
    "    directory_sim = '/Users/jimenagonzalez/research/DSPL/Simulations-Double-Source-Gravitational-Lensing/Data/Sim/'\n",
    "    directory_cutouts = 'Data/lens_cutouts/'\n",
    "    end_name = ['_g.fits', '_i.fits', '_r.fits']\n",
    "    x = np.zeros((1,3,46,46)) #Complete Simulations\n",
    "    n = 0\n",
    "    for lens_id in ids:\n",
    "        path_sim_id = directory_sim + str(lens_id)\n",
    "        if(n >= m):\n",
    "            break\n",
    "        #check that the sim id folder exist (if not continue)\n",
    "        if(os.path.exists(path_sim_id) == False):\n",
    "            continue\n",
    "        num_sim_id = int(len(os.listdir(path_sim_id))/3) # num sim with same lens\n",
    "        #loop on each simulation produced using the same lens\n",
    "        for j in range(1, num_sim_id+1):\n",
    "            n += 1 #number of total simulations\n",
    "            path_cutout = directory_cutouts + str(lens_id) \n",
    "            path_sim = path_sim_id + '/' + str(j)\n",
    "            with fits.open(path_cutout + end_name[0]) as hdul: cutout_g = hdul[0].data\n",
    "            with fits.open(path_cutout + end_name[1]) as hdul: cutout_i = hdul[0].data\n",
    "            with fits.open(path_cutout + end_name[2]) as hdul: cutout_r = hdul[0].data\n",
    "            with fits.open(path_sim + end_name[0]) as hdul: sim_g = hdul[0].data\n",
    "            with fits.open(path_sim + end_name[1]) as hdul: sim_i = hdul[0].data\n",
    "            with fits.open(path_sim + end_name[2]) as hdul: sim_r = hdul[0].data\n",
    "            ele_sim = np.array([cutout_g + sim_g, cutout_r + sim_r, cutout_i + sim_i])\n",
    "            x = np.append(x, [ele_sim], axis = 0)\n",
    "            #make_graphs(sim_i, sim_r, sim_g, cutout_i, cutout_r, cutout_g)\n",
    "    x = np.delete(x, 0, axis = 0)\n",
    "    return(x) "
   ]
  },
  {
   "cell_type": "code",
   "execution_count": 5,
   "metadata": {},
   "outputs": [
    {
     "name": "stdout",
     "output_type": "stream",
     "text": [
      "500\n"
     ]
    }
   ],
   "source": [
    "ids = pick_sample(1000)\n",
    "x = complete_simulations(500, ids)\n",
    "write_fit_file('complete', x)\n",
    "print(len(x))"
   ]
  },
  {
   "cell_type": "code",
   "execution_count": 6,
   "metadata": {},
   "outputs": [],
   "source": [
    "# convert -delay 140 -loop 0 *.png Complete_cut_sim.gif"
   ]
  },
  {
   "cell_type": "code",
   "execution_count": 7,
   "metadata": {},
   "outputs": [
    {
     "name": "stdout",
     "output_type": "stream",
     "text": [
      "<class 'numpy.ndarray'>\n",
      "(500, 3, 46, 46)\n"
     ]
    }
   ],
   "source": [
    "hdu_list = fits.open('Data/Sim_complete/complete.fits')\n",
    "my_images = hdu_list[1].data\n",
    "print(type(my_images))\n",
    "print(my_images.shape)\n",
    "hdu_list.close()"
   ]
  },
  {
   "cell_type": "code",
   "execution_count": null,
   "metadata": {},
   "outputs": [],
   "source": []
  }
 ],
 "metadata": {
  "kernelspec": {
   "display_name": "Python 3",
   "language": "python",
   "name": "python3"
  },
  "language_info": {
   "codemirror_mode": {
    "name": "ipython",
    "version": 3
   },
   "file_extension": ".py",
   "mimetype": "text/x-python",
   "name": "python",
   "nbconvert_exporter": "python",
   "pygments_lexer": "ipython3",
   "version": "3.7.7"
  }
 },
 "nbformat": 4,
 "nbformat_minor": 4
}
