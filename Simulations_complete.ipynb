{
 "cells": [
  {
   "cell_type": "code",
   "execution_count": 1,
   "metadata": {},
   "outputs": [],
   "source": [
    "import os\n",
    "from os import path\n",
    "import numpy as np\n",
    "import copy\n",
    "from astropy.io import fits\n",
    "import matplotlib.pyplot as plt\n",
    "import matplotlib.ticker as plticker\n",
    "from astropy.visualization import make_lupton_rgb\n",
    "import sys"
   ]
  },
  {
   "cell_type": "code",
   "execution_count": 2,
   "metadata": {},
   "outputs": [
    {
     "data": {
      "text/plain": [
       "(46, 46)"
      ]
     },
     "execution_count": 2,
     "metadata": {},
     "output_type": "execute_result"
    }
   ],
   "source": [
    "# New pixels\n",
    "pwd = '/Users/jimenagonzalez/research/DSPL/Simulations-Double-Source-Gravitational-Lensing/Data/Cutouts-coadd2/DES0229+0335/124779474/'\n",
    "filename_g = 'DESJ022754.4277+035455.9080_g.fits'\n",
    "filename_i = 'DESJ022754.4277+035455.9080_i.fits'\n",
    "filename_r = 'DESJ022754.4277+035455.9080_r.fits'\n",
    "with fits.open(pwd + filename_g) as hdul:\n",
    "    data_g = hdul[0].data\n",
    "with fits.open(pwd + filename_i) as hdul:\n",
    "    data_i = hdul[0].data\n",
    "with fits.open(pwd + filename_r) as hdul:\n",
    "    data_r = hdul[0].data\n",
    "data_g.shape"
   ]
  },
  {
   "cell_type": "code",
   "execution_count": 3,
   "metadata": {},
   "outputs": [],
   "source": [
    "def make_graphs(sim_i, sim_r, sim_g, cutout_i, cutout_r, cutout_g):\n",
    "    loc = plticker.MultipleLocator(base=3.75)\n",
    "    fig, (ax1, ax2, ax3) = plt.subplots(figsize=(15, 4), ncols=3)\n",
    "\n",
    "    rgb = make_lupton_rgb(sim_i, sim_r, sim_g, Q=11., stretch=40.)\n",
    "    ax1.set_title('Simulation')\n",
    "    ax1.xaxis.set_ticklabels([])\n",
    "    ax1.yaxis.set_ticklabels([])\n",
    "    ax1.xaxis.set_major_locator(loc)\n",
    "    ax1.yaxis.set_major_locator(loc)\n",
    "    ax1.grid(which='major', axis='both', linestyle='-')\n",
    "    original = ax1.imshow(rgb, aspect='equal')\n",
    "    fig.colorbar(original, ax=ax1)\n",
    "\n",
    "    rgb = make_lupton_rgb(cutout_i, cutout_r, cutout_g, Q=11., stretch=40.)\n",
    "    ax2.set_title('Cutout')\n",
    "    ax2.xaxis.set_ticklabels([])\n",
    "    ax2.yaxis.set_ticklabels([])\n",
    "    ax2.xaxis.set_major_locator(loc)\n",
    "    ax2.yaxis.set_major_locator(loc)\n",
    "    ax2.grid(which='major', axis='both', linestyle='-')\n",
    "    cutout = ax2.imshow(rgb, aspect='equal')\n",
    "    fig.colorbar(cutout, ax=ax2)\n",
    "            \n",
    "    rgb = make_lupton_rgb(sim_i+cutout_i, sim_r+cutout_r, sim_g+cutout_g, Q=11., stretch=40.)\n",
    "    ax3.set_title('Complete')\n",
    "    ax3.xaxis.set_ticklabels([])\n",
    "    ax3.yaxis.set_ticklabels([])\n",
    "    ax3.xaxis.set_major_locator(loc)\n",
    "    ax3.yaxis.set_major_locator(loc)\n",
    "    ax3.grid(which='major', axis='both', linestyle='-')\n",
    "    projection = ax3.imshow(rgb, aspect='equal')\n",
    "    fig.colorbar(projection, ax=ax3)\n",
    "        \n",
    "    plt.savefig('Data/Sim_complete/Image' + new_folder + '.png', bbox_inches='tight')\n",
    "    plt.show() "
   ]
  },
  {
   "cell_type": "code",
   "execution_count": 4,
   "metadata": {},
   "outputs": [
    {
     "name": "stdout",
     "output_type": "stream",
     "text": [
      "2271 1934\n"
     ]
    }
   ],
   "source": [
    "#Adding cutouts and simulations\n",
    "directory_sim = '/Users/jimenagonzalez/research/DSPL/Simulations-Double-Source-Gravitational-Lensing/Data/Sim/'\n",
    "directory_parent = 'Data/Cutouts-coadd2/'\n",
    "folders = next(os.walk(directory_parent))[1]\n",
    "# I should create the array & populate it\n",
    "x = np.zeros((1,3,46,46)) #Complete Simulations\n",
    "y = np.zeros((1,3,46,46)) #Cutouts\n",
    "n = 0\n",
    "\n",
    "#folder has as name an estimate of the coordinates\n",
    "for folder in folders:\n",
    "    new_folders = sorted(next(os.walk(directory_parent + folder))[1])\n",
    "    #new_folder has as name the ID of each galaxy\n",
    "    for new_folder in new_folders:\n",
    "        #if(n >= 600):\n",
    "        #    break\n",
    "        path_sim_id = directory_sim + new_folder\n",
    "        #check that the sim id folder exist (if not continue)\n",
    "        if(os.path.exists(path_sim_id) == False):\n",
    "            continue\n",
    "        num_sim_id = int(len(os.listdir(path_sim_id))/3) # num sim with same lens\n",
    "        #loop on each simulation produced using the same lens\n",
    "        for j in range(1, num_sim_id+1):\n",
    "            n = n + 1 #number of total simulations\n",
    "            #loop over each file of the ID folder in cutouts\n",
    "            files = sorted(next(os.walk(directory_parent + folder + '/' + new_folder))[2])\n",
    "            for file in files:\n",
    "                path_cutout = directory_parent + folder + '/' + new_folder + '/' + file\n",
    "                path_sim = path_sim_id + '/' + str(j) + '_' + file[-6:]\n",
    "                with fits.open(path_cutout) as hdul:\n",
    "                    if file[-6:] == 'g.fits': cutout_g = hdul[0].data\n",
    "                    if file[-6:] == 'i.fits': cutout_i = hdul[0].data\n",
    "                    if file[-6:] == 'r.fits': cutout_r = hdul[0].data\n",
    "                with fits.open(path_sim) as hdul:\n",
    "                    if file[-6:] == 'g.fits': sim_g = hdul[0].data\n",
    "                    if file[-6:] == 'i.fits': sim_i = hdul[0].data\n",
    "                    if file[-6:] == 'r.fits': sim_r = hdul[0].data\n",
    "            ele_sim = np.array([cutout_g + sim_g, cutout_r + sim_r, cutout_i + sim_i])\n",
    "            x = np.append(x, [ele_sim], axis = 0)\n",
    "            if(j == 1):\n",
    "                ele_cut = np.array([cutout_g, cutout_r, cutout_i])\n",
    "                y = np.append(y, [ele_cut], axis = 0)\n",
    "            #make_graphs(sim_i, sim_r, sim_g, cutout_i, cutout_r, cutout_g)\n",
    "x = np.delete(x, 0, axis = 0)\n",
    "y = np.delete(y, 0, axis = 0)\n",
    "print(len(x), len(y))"
   ]
  },
  {
   "cell_type": "code",
   "execution_count": 5,
   "metadata": {},
   "outputs": [],
   "source": [
    "primary = fits.PrimaryHDU()\n",
    "image = fits.ImageHDU(x, name=\"IMAGE\")\n",
    "hdu_list = fits.HDUList([primary, image])\n",
    "hdu_list.writeto('Data/Sim_complete/complete.fits', overwrite=True)"
   ]
  },
  {
   "cell_type": "code",
   "execution_count": 6,
   "metadata": {},
   "outputs": [],
   "source": [
    "primary = fits.PrimaryHDU()\n",
    "image = fits.ImageHDU(y, name=\"IMAGE\")\n",
    "hdu_list = fits.HDUList([primary, image])\n",
    "hdu_list.writeto('Data/Sim_complete/cutouts.fits', overwrite=True)"
   ]
  },
  {
   "cell_type": "code",
   "execution_count": 7,
   "metadata": {},
   "outputs": [],
   "source": [
    "# convert -delay 140 -loop 0 *.png Complete_cut_sim.gif"
   ]
  },
  {
   "cell_type": "code",
   "execution_count": 8,
   "metadata": {},
   "outputs": [
    {
     "name": "stdout",
     "output_type": "stream",
     "text": [
      "<class 'numpy.ndarray'>\n",
      "(2271, 3, 46, 46)\n"
     ]
    }
   ],
   "source": [
    "hdu_list = fits.open('Data/Sim_complete/complete.fits')\n",
    "my_images = hdu_list[1].data\n",
    "print(type(my_images))\n",
    "print(my_images.shape)"
   ]
  },
  {
   "cell_type": "code",
   "execution_count": 9,
   "metadata": {},
   "outputs": [],
   "source": [
    "hdu_list.close()"
   ]
  },
  {
   "cell_type": "code",
   "execution_count": 10,
   "metadata": {},
   "outputs": [
    {
     "name": "stdout",
     "output_type": "stream",
     "text": [
      "<class 'numpy.ndarray'>\n",
      "(1934, 3, 46, 46)\n"
     ]
    }
   ],
   "source": [
    "hdu_list = fits.open('Data/Sim_complete/cutouts.fits')\n",
    "my_images = hdu_list[1].data\n",
    "print(type(my_images))\n",
    "print(my_images.shape)\n",
    "hdu_list.close()"
   ]
  },
  {
   "cell_type": "code",
   "execution_count": null,
   "metadata": {},
   "outputs": [],
   "source": []
  }
 ],
 "metadata": {
  "kernelspec": {
   "display_name": "Python 3",
   "language": "python",
   "name": "python3"
  },
  "language_info": {
   "codemirror_mode": {
    "name": "ipython",
    "version": 3
   },
   "file_extension": ".py",
   "mimetype": "text/x-python",
   "name": "python",
   "nbconvert_exporter": "python",
   "pygments_lexer": "ipython3",
   "version": "3.7.7"
  }
 },
 "nbformat": 4,
 "nbformat_minor": 4
}
