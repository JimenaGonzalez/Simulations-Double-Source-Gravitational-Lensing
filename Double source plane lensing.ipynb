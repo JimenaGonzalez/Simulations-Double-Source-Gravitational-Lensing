{
 "cells": [
  {
   "cell_type": "code",
   "execution_count": 1,
   "metadata": {},
   "outputs": [],
   "source": [
    "import numpy as np\n",
    "import matplotlib.pyplot as plt\n",
    "%matplotlib inline"
   ]
  },
  {
   "cell_type": "code",
   "execution_count": 2,
   "metadata": {},
   "outputs": [],
   "source": [
    "from lenstronomy.LensModel.lens_model import LensModel\n",
    "from lenstronomy.LightModel.light_model import LightModel\n",
    "from lenstronomy.PointSource.point_source import PointSource\n",
    "from lenstronomy.Data.pixel_grid import PixelGrid\n",
    "from lenstronomy.Data.psf import PSF\n",
    "import lenstronomy.Plots.output_plots as lens_plot\n",
    "from lenstronomy.ImSim.image_model import ImageModel\n",
    "from lenstronomy.Data.imaging_data import ImageData\n",
    "from lenstronomy.Plots.output_plots import LensModelPlot\n",
    "from lenstronomy.LensModel.Solver.lens_equation_solver import LensEquationSolver\n",
    "import lenstronomy.Util.param_util as param_util\n",
    "import lenstronomy.Util.simulation_util as sim_util\n",
    "import lenstronomy.Util.image_util as image_util"
   ]
  },
  {
   "cell_type": "code",
   "execution_count": null,
   "metadata": {},
   "outputs": [],
   "source": [
    "#The first source is modeled as a lens since it also deflects the light coming from the second source\n",
    "lens_model_list = ['SPEP','SPEP']\n",
    "kwargs_spep_l = {'theta_E': .9, 'e1': 0.05, 'e2': 0.05, 'gamma': 2., 'center_x': 0, 'center_y': 0}\n",
    "kwargs_spep_s = {'theta_E': .3, 'e1': 0.05, 'e2': 0.05, 'gamma': 1.5, 'center_x': 0, 'center_y': 0}\n",
    "kwargs_lens = [kwargs_spep_l, kwargs_spep_s]\n",
    "redshift_list = [0.4, 1.]\n",
    "z_source = 1.3\n",
    "lensModel_mp = LensModel(lens_model_list=lens_model_list, z_source=z_source, lens_redshift_list=redshift_list, multi_plane=True)\n",
    "#source, image position & magnification\n",
    "beta_ra, beta_dec = 0., 0. #Aligned with the lens \n",
    "solver = LensEquationSolver(lensModel_mp)\n",
    "theta_ra, theta_dec = solver.image_position_from_source(beta_ra, beta_dec, kwargs_lens)\n",
    "mag = lensModel_mp.magnification(theta_ra, theta_dec, kwargs_lens)\n",
    "#source light (both sources)\n",
    "source_light_model_list = ['SERSIC', 'SERSIC']\n",
    "lightModel_source = LightModel(light_model_list=source_light_model_list)\n",
    "kwargs_light_source1 = {'amp': 5000, 'R_sersic': 0.05, 'n_sersic': 1.5, 'center_x': beta_ra, 'center_y': beta_dec}\n",
    "kwargs_light_source2 = {'amp': 3000, 'R_sersic': 0.07, 'n_sersic': 1.5, 'center_x': beta_ra, 'center_y': beta_dec}\n",
    "kwargs_light_source = [kwargs_light_source1, kwargs_light_source2]\n",
    "#lens light\n",
    "lens_light_model_list = ['SERSIC_ELLIPSE']\n",
    "lightModel_lens = LightModel(light_model_list=lens_light_model_list)\n",
    "e1, e2 = param_util.phi_q2_ellipticity(phi=0.5, q=0.7)\n",
    "kwargs_light_l = {'amp': 10000, 'R_sersic': 0.1, 'n_sersic': 2.5, 'e1': e1, 'e2': e2, 'center_x': 0., 'center_y': 0}\n",
    "kwargs_light_lens = [kwargs_light_l]\n",
    "#Multi-plane model\n",
    "kwargs_model_mp = {'lens_model_list': lens_model_list, 'z_source': z_source, 'lens_redshift_list': redshift_list,\n",
    "                   'multi_plane': True,\n",
    "                   'source_light_model_list': source_light_model_list,\n",
    "               'lens_light_model_list': lens_light_model_list, 'point_source_model_list': ['SOURCE_POSITION']}\n",
    "#point source\n",
    "point_source_model_list = ['SOURCE_POSITION']\n",
    "pointSource = PointSource(point_source_type_list=point_source_model_list, lensModel=lensModel_mp, fixed_magnification_list=[True])\n",
    "kwargs_ps = [{'ra_source': beta_ra, 'dec_source': beta_dec, 'source_amp': 100}]\n",
    "#Data \n",
    "numPix = 100\n",
    "deltaPix = 0.05 \n",
    "exp_time = 10\n",
    "background_rms = .1\n",
    "ra_at_xy_0, dec_at_xy_0 = -2.5, -2.5 \n",
    "transform_pix2angle = np.array([[1, 0], [0, 1]]) * deltaPix \n",
    "kwargs_pixel = {'nx': 100, 'ny': 100, 'ra_at_xy_0': ra_at_xy_0, 'dec_at_xy_0': dec_at_xy_0, 'transform_pix2angle': transform_pix2angle} \n",
    "pixel_grid = PixelGrid(**kwargs_pixel)\n",
    "#PSF\n",
    "kwargs_psf = {'psf_type': 'GAUSSIAN', 'fwhm': 0.1, 'pixel_size': deltaPix}\n",
    "psf = PSF(**kwargs_psf)\n",
    "#Image data class\n",
    "kwargs_data = sim_util.data_configure_simple(numPix, deltaPix, exp_time, background_rms, inverse=True)\n",
    "data_class = ImageData(**kwargs_data)"
   ]
  },
  {
   "cell_type": "code",
   "execution_count": null,
   "metadata": {},
   "outputs": [],
   "source": [
    "kwargs_numerics = {'supersampling_factor': 1, 'supersampling_convolution': False}\n",
    "imageModel = ImageModel(data_class=pixel_grid, psf_class=psf, lens_model_class=lensModel_mp,\n",
    "                        source_model_class=lightModel_source, lens_light_model_class=lightModel_lens,\n",
    "                        point_source_class=pointSource, kwargs_numerics=kwargs_numerics)\n",
    "image = imageModel.image(kwargs_lens=kwargs_lens, kwargs_source=kwargs_light_source,\n",
    "                         kwargs_lens_light=kwargs_light_lens, kwargs_ps=kwargs_ps)\n",
    "#Noise\n",
    "poisson = image_util.add_poisson(image, exp_time=exp_time)\n",
    "bkg = image_util.add_background(image, sigma_bkd=background_rms)\n",
    "image_noisy = image + bkg + poisson\n",
    "#Image data\n",
    "kwargs_data = {'image_data': image_noisy, 'background_rms': background_rms, 'exposure_time': exp_time,\n",
    "               'ra_at_xy_0': ra_at_xy_0, 'dec_at_xy_0': dec_at_xy_0, 'transform_pix2angle': transform_pix2angle} "
   ]
  },
  {
   "cell_type": "code",
   "execution_count": null,
   "metadata": {},
   "outputs": [],
   "source": [
    "# illustrate fit\n",
    "kwargs_model = {'lens_model_list': lens_model_list, 'source_light_model_list': source_light_model_list,\n",
    "               'lens_light_model_list': lens_light_model_list, 'point_source_model_list': point_source_model_list}\n",
    "lensPlot = LensModelPlot(kwargs_data, kwargs_psf, kwargs_numerics, kwargs_model, kwargs_lens, kwargs_light_source,\n",
    "                            kwargs_light_lens, kwargs_ps, arrow_size=0.02)\n",
    "f, axes = plt.subplots(1, 1, figsize=(6, 6), sharex=True, sharey=True)\n",
    "lensPlot.data_plot(ax=axes)\n",
    "f.tight_layout()\n",
    "plt.show()"
   ]
  }
 ],
 "metadata": {
  "kernelspec": {
   "display_name": "Python 3",
   "language": "python",
   "name": "python3"
  },
  "language_info": {
   "codemirror_mode": {
    "name": "ipython",
    "version": 3
   },
   "file_extension": ".py",
   "mimetype": "text/x-python",
   "name": "python",
   "nbconvert_exporter": "python",
   "pygments_lexer": "ipython3",
   "version": "3.6.8"
  }
 },
 "nbformat": 4,
 "nbformat_minor": 2
}
