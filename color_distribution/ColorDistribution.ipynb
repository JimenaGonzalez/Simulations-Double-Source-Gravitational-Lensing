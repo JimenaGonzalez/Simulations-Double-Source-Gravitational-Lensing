{
 "cells": [
  {
   "cell_type": "code",
   "execution_count": 36,
   "metadata": {},
   "outputs": [],
   "source": [
    "import pandas as pd\n",
    "import matplotlib.pyplot as plt"
   ]
  },
  {
   "cell_type": "code",
   "execution_count": 37,
   "metadata": {},
   "outputs": [
    {
     "data": {
      "text/html": [
       "<div>\n",
       "<style scoped>\n",
       "    .dataframe tbody tr th:only-of-type {\n",
       "        vertical-align: middle;\n",
       "    }\n",
       "\n",
       "    .dataframe tbody tr th {\n",
       "        vertical-align: top;\n",
       "    }\n",
       "\n",
       "    .dataframe thead th {\n",
       "        text-align: right;\n",
       "    }\n",
       "</style>\n",
       "<table border=\"1\" class=\"dataframe\">\n",
       "  <thead>\n",
       "    <tr style=\"text-align: right;\">\n",
       "      <th></th>\n",
       "      <th>DNF_ZMEAN_MOF</th>\n",
       "      <th>MAG_PSF_G</th>\n",
       "      <th>MAG_PSF_R</th>\n",
       "      <th>MAG_PSF_I</th>\n",
       "      <th>MAG_PSF_Z</th>\n",
       "    </tr>\n",
       "  </thead>\n",
       "  <tbody>\n",
       "    <tr>\n",
       "      <th>0</th>\n",
       "      <td>0.559682</td>\n",
       "      <td>23.424372</td>\n",
       "      <td>22.960579</td>\n",
       "      <td>22.675220</td>\n",
       "      <td>22.707121</td>\n",
       "    </tr>\n",
       "    <tr>\n",
       "      <th>1</th>\n",
       "      <td>0.613049</td>\n",
       "      <td>24.238199</td>\n",
       "      <td>22.753164</td>\n",
       "      <td>22.355976</td>\n",
       "      <td>22.186701</td>\n",
       "    </tr>\n",
       "    <tr>\n",
       "      <th>2</th>\n",
       "      <td>0.256492</td>\n",
       "      <td>24.271034</td>\n",
       "      <td>22.572611</td>\n",
       "      <td>21.496719</td>\n",
       "      <td>20.945122</td>\n",
       "    </tr>\n",
       "    <tr>\n",
       "      <th>3</th>\n",
       "      <td>0.058471</td>\n",
       "      <td>20.467564</td>\n",
       "      <td>20.403315</td>\n",
       "      <td>20.408634</td>\n",
       "      <td>20.230314</td>\n",
       "    </tr>\n",
       "    <tr>\n",
       "      <th>4</th>\n",
       "      <td>1.615111</td>\n",
       "      <td>24.693052</td>\n",
       "      <td>24.137976</td>\n",
       "      <td>24.449373</td>\n",
       "      <td>99.000000</td>\n",
       "    </tr>\n",
       "    <tr>\n",
       "      <th>...</th>\n",
       "      <td>...</td>\n",
       "      <td>...</td>\n",
       "      <td>...</td>\n",
       "      <td>...</td>\n",
       "      <td>...</td>\n",
       "    </tr>\n",
       "    <tr>\n",
       "      <th>29801</th>\n",
       "      <td>0.683155</td>\n",
       "      <td>24.109261</td>\n",
       "      <td>23.175524</td>\n",
       "      <td>22.440823</td>\n",
       "      <td>21.963848</td>\n",
       "    </tr>\n",
       "    <tr>\n",
       "      <th>29802</th>\n",
       "      <td>0.699196</td>\n",
       "      <td>23.530056</td>\n",
       "      <td>23.004915</td>\n",
       "      <td>22.812317</td>\n",
       "      <td>22.483130</td>\n",
       "    </tr>\n",
       "    <tr>\n",
       "      <th>29803</th>\n",
       "      <td>0.468773</td>\n",
       "      <td>23.398273</td>\n",
       "      <td>22.046770</td>\n",
       "      <td>21.472723</td>\n",
       "      <td>21.016819</td>\n",
       "    </tr>\n",
       "    <tr>\n",
       "      <th>29804</th>\n",
       "      <td>0.530335</td>\n",
       "      <td>23.688456</td>\n",
       "      <td>22.768021</td>\n",
       "      <td>22.472118</td>\n",
       "      <td>22.140081</td>\n",
       "    </tr>\n",
       "    <tr>\n",
       "      <th>29805</th>\n",
       "      <td>1.028513</td>\n",
       "      <td>24.130835</td>\n",
       "      <td>23.905340</td>\n",
       "      <td>23.372002</td>\n",
       "      <td>22.703718</td>\n",
       "    </tr>\n",
       "  </tbody>\n",
       "</table>\n",
       "<p>29806 rows × 5 columns</p>\n",
       "</div>"
      ],
      "text/plain": [
       "       DNF_ZMEAN_MOF  MAG_PSF_G  MAG_PSF_R  MAG_PSF_I  MAG_PSF_Z\n",
       "0           0.559682  23.424372  22.960579  22.675220  22.707121\n",
       "1           0.613049  24.238199  22.753164  22.355976  22.186701\n",
       "2           0.256492  24.271034  22.572611  21.496719  20.945122\n",
       "3           0.058471  20.467564  20.403315  20.408634  20.230314\n",
       "4           1.615111  24.693052  24.137976  24.449373  99.000000\n",
       "...              ...        ...        ...        ...        ...\n",
       "29801       0.683155  24.109261  23.175524  22.440823  21.963848\n",
       "29802       0.699196  23.530056  23.004915  22.812317  22.483130\n",
       "29803       0.468773  23.398273  22.046770  21.472723  21.016819\n",
       "29804       0.530335  23.688456  22.768021  22.472118  22.140081\n",
       "29805       1.028513  24.130835  23.905340  23.372002  22.703718\n",
       "\n",
       "[29806 rows x 5 columns]"
      ]
     },
     "execution_count": 37,
     "metadata": {},
     "output_type": "execute_result"
    }
   ],
   "source": [
    "colors = pd.read_csv('source_colors.csv')\n",
    "colors"
   ]
  },
  {
   "cell_type": "code",
   "execution_count": 41,
   "metadata": {},
   "outputs": [
    {
     "data": {
      "image/png": "[encoded data removed]",
      "text/plain": [
       "<Figure size 432x288 with 1 Axes>"
      ]
     },
     "metadata": {
      "needs_background": "light"
     },
     "output_type": "display_data"
    }
   ],
   "source": [
    "colors = colors[colors['DNF_ZMEAN_MOF'] > 0.001]\n",
    "colors = colors[colors['MAG_PSF_G'] < 30.]\n",
    "colors = colors[colors['MAG_PSF_R'] < 30.]\n",
    "colors = colors[colors['MAG_PSF_I'] < 30.]\n",
    "# Redshift distribution\n",
    "plt.figure()\n",
    "plt.hist(colors['DNF_ZMEAN_MOF'], color = 'blue', edgecolor = 'black', bins = int(180/5))\n",
    "plt.show()"
   ]
  },
  {
   "cell_type": "code",
   "execution_count": 42,
   "metadata": {},
   "outputs": [
    {
     "data": {
      "text/html": [
       "<div>\n",
       "<style scoped>\n",
       "    .dataframe tbody tr th:only-of-type {\n",
       "        vertical-align: middle;\n",
       "    }\n",
       "\n",
       "    .dataframe tbody tr th {\n",
       "        vertical-align: top;\n",
       "    }\n",
       "\n",
       "    .dataframe thead th {\n",
       "        text-align: right;\n",
       "    }\n",
       "</style>\n",
       "<table border=\"1\" class=\"dataframe\">\n",
       "  <thead>\n",
       "    <tr style=\"text-align: right;\">\n",
       "      <th></th>\n",
       "      <th>DNF_ZMEAN_MOF</th>\n",
       "      <th>MAG_PSF_G</th>\n",
       "      <th>MAG_PSF_R</th>\n",
       "      <th>MAG_PSF_I</th>\n",
       "      <th>MAG_PSF_Z</th>\n",
       "      <th>g_r</th>\n",
       "      <th>g_i</th>\n",
       "    </tr>\n",
       "  </thead>\n",
       "  <tbody>\n",
       "    <tr>\n",
       "      <th>0</th>\n",
       "      <td>0.559682</td>\n",
       "      <td>23.424372</td>\n",
       "      <td>22.960579</td>\n",
       "      <td>22.675220</td>\n",
       "      <td>22.707121</td>\n",
       "      <td>0.463793</td>\n",
       "      <td>0.749151</td>\n",
       "    </tr>\n",
       "    <tr>\n",
       "      <th>1</th>\n",
       "      <td>0.613049</td>\n",
       "      <td>24.238199</td>\n",
       "      <td>22.753164</td>\n",
       "      <td>22.355976</td>\n",
       "      <td>22.186701</td>\n",
       "      <td>1.485035</td>\n",
       "      <td>1.882223</td>\n",
       "    </tr>\n",
       "    <tr>\n",
       "      <th>2</th>\n",
       "      <td>0.256492</td>\n",
       "      <td>24.271034</td>\n",
       "      <td>22.572611</td>\n",
       "      <td>21.496719</td>\n",
       "      <td>20.945122</td>\n",
       "      <td>1.698423</td>\n",
       "      <td>2.774315</td>\n",
       "    </tr>\n",
       "    <tr>\n",
       "      <th>3</th>\n",
       "      <td>0.058471</td>\n",
       "      <td>20.467564</td>\n",
       "      <td>20.403315</td>\n",
       "      <td>20.408634</td>\n",
       "      <td>20.230314</td>\n",
       "      <td>0.064249</td>\n",
       "      <td>0.058929</td>\n",
       "    </tr>\n",
       "    <tr>\n",
       "      <th>4</th>\n",
       "      <td>1.615111</td>\n",
       "      <td>24.693052</td>\n",
       "      <td>24.137976</td>\n",
       "      <td>24.449373</td>\n",
       "      <td>99.000000</td>\n",
       "      <td>0.555077</td>\n",
       "      <td>0.243679</td>\n",
       "    </tr>\n",
       "  </tbody>\n",
       "</table>\n",
       "</div>"
      ],
      "text/plain": [
       "   DNF_ZMEAN_MOF  MAG_PSF_G  MAG_PSF_R  MAG_PSF_I  MAG_PSF_Z       g_r  \\\n",
       "0       0.559682  23.424372  22.960579  22.675220  22.707121  0.463793   \n",
       "1       0.613049  24.238199  22.753164  22.355976  22.186701  1.485035   \n",
       "2       0.256492  24.271034  22.572611  21.496719  20.945122  1.698423   \n",
       "3       0.058471  20.467564  20.403315  20.408634  20.230314  0.064249   \n",
       "4       1.615111  24.693052  24.137976  24.449373  99.000000  0.555077   \n",
       "\n",
       "        g_i  \n",
       "0  0.749151  \n",
       "1  1.882223  \n",
       "2  2.774315  \n",
       "3  0.058929  \n",
       "4  0.243679  "
      ]
     },
     "execution_count": 42,
     "metadata": {},
     "output_type": "execute_result"
    }
   ],
   "source": [
    "colors['g_r'] = colors['MAG_PSF_G'] - colors['MAG_PSF_R']\n",
    "colors['g_i'] = colors['MAG_PSF_G'] - colors['MAG_PSF_I']\n",
    "colors.head()"
   ]
  },
  {
   "cell_type": "code",
   "execution_count": 44,
   "metadata": {},
   "outputs": [
    {
     "data": {
      "image/png": "[encoded data removed]",
      "text/plain": [
       "<Figure size 648x432 with 1 Axes>"
      ]
     },
     "metadata": {
      "needs_background": "light"
     },
     "output_type": "display_data"
    }
   ],
   "source": [
    "plt.figure(figsize=(9,6))\n",
    "plt.plot(colors['DNF_ZMEAN_MOF'], colors['g_r'], 'ro')\n",
    "plt.plot(colors['DNF_ZMEAN_MOF'], colors['g_i'], 'bo')\n",
    "plt.xlabel('Redshift')\n",
    "plt.ylabel('Colors')\n",
    "plt.show()"
   ]
  },
  {
   "cell_type": "code",
   "execution_count": null,
   "metadata": {},
   "outputs": [],
   "source": []
  },
  {
   "cell_type": "code",
   "execution_count": null,
   "metadata": {},
   "outputs": [],
   "source": []
  }
 ],
 "metadata": {
  "kernelspec": {
   "display_name": "Python 3",
   "language": "python",
   "name": "python3"
  },
  "language_info": {
   "codemirror_mode": {
    "name": "ipython",
    "version": 3
   },
   "file_extension": ".py",
   "mimetype": "text/x-python",
   "name": "python",
   "nbconvert_exporter": "python",
   "pygments_lexer": "ipython3",
   "version": "3.7.7"
  }
 },
 "nbformat": 4,
 "nbformat_minor": 4
}
