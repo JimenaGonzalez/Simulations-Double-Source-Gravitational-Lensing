{
 "cells": [
  {
   "cell_type": "code",
   "execution_count": 4,
   "metadata": {},
   "outputs": [],
   "source": [
    "import copy\n",
    "import numpy as np\n",
    "#import aplpy\n",
    "from PIL import Image\n",
    "import matplotlib.pyplot as plt\n",
    "%matplotlib inline\n",
    "\n",
    "# lenstronomy module import\n",
    "import lenstronomy.Util.data_util as data_util\n",
    "import lenstronomy.Util.util as util\n",
    "import lenstronomy.Plots.plot_util as plot_util\n",
    "from lenstronomy.SimulationAPI.sim_api import SimAPI\n",
    "from lenstronomy.LightModel.Profiles.gaussian import GaussianEllipse\n",
    "gauss = GaussianEllipse()\n",
    "from astropy.cosmology import FlatLambdaCDM"
   ]
  },
  {
   "cell_type": "code",
   "execution_count": 6,
   "metadata": {},
   "outputs": [
    {
     "name": "stdout",
     "output_type": "stream",
     "text": [
      "[{'center_x': 0, 'center_y': 0, 'e1': 0.1, 'e2': 0, 'theta_E': 4.047603268255206}]\n"
     ]
    },
    {
     "name": "stderr",
     "output_type": "stream",
     "text": [
      "/home/jimenagonzalez/software/anaconda3/lib/python3.7/site-packages/ipykernel_launcher.py:55: RuntimeWarning: invalid value encountered in log10\n"
     ]
    },
    {
     "data": {
      "image/png": "[encoded data removed]",
      "text/plain": [
       "<Figure size 288x288 with 1 Axes>"
      ]
     },
     "metadata": {
      "needs_background": "light"
     },
     "output_type": "display_data"
    }
   ],
   "source": [
    "LSST_camera = {'read_noise': 10,  # std of noise generated by read-out (in units of electrons)\n",
    "               'pixel_scale': 0.263,  # scale (in arcseonds) of pixels\n",
    "               'ccd_gain': 4.5  # electrons/ADU (analog-to-digital unit). A gain of 8 means that the camera digitizes the CCD signal so that each ADU corresponds to 8 photoelectrons.\n",
    "              }\n",
    "LSST_g_band_obs = {'exposure_time': 90.,  # exposure time per image (in seconds)\n",
    "                   'sky_brightness': 21.7,  # sky brightness (in magnitude per square arcseconds)\n",
    "                   'magnitude_zero_point': 30,  # magnitude in which 1 count per second per arcsecond square is registered (in ADU's)\n",
    "                   'num_exposures': 10,  # number of exposures that are combined\n",
    "                   'seeing': 0.6,  # full width at half maximum of the PSF (if not specific psf_model is specified)\n",
    "                   'psf_type': 'GAUSSIAN',  # string, type of PSF ('GAUSSIAN' and 'PIXEL' supported)\n",
    "                   'psf_model': None  # 2d numpy array, model of PSF centered with odd number of pixels per axis (optional when psf_type='PIXEL' is chosen)\n",
    "                  }\n",
    "\n",
    "numpix = 64\n",
    "kwargs_g_band = util.merge_dicts(LSST_camera, LSST_g_band_obs)\n",
    "kwargs_numerics = {'point_source_supersampling_factor': 1}\n",
    "\n",
    "#sim_g = SimAPI(numpix=numpix, kwargs_single_band=kwargs_g_band, kwargs_model=kwargs_model, kwargs_numerics=kwargs_numerics)\n",
    "#sim_g = SimAPI(numpix=numpix, kwargs_single_band=kwargs_g_band, kwargs_model=kwargs_model_composite, kwargs_numerics=kwargs_numerics)\n",
    "\n",
    "cosmo = FlatLambdaCDM(H0=70, Om0=0.3, Ob0=0.)\n",
    "\n",
    "kwargs_model_physical = {'lens_model_list': ['SIE'],  # list of lens models to be used\n",
    "                          'lens_redshift_list': [0.8],  # list of redshift of the deflections\n",
    "                          'lens_light_model_list': ['SERSIC_ELLIPSE'],  # list of unlensed light models to be used\n",
    "                          'source_light_model_list': ['SERSIC_ELLIPSE', 'SERSIC'],  # list of extended source models to be used\n",
    "                          'source_redshift_list': [1., 2.5],  # list of redshfits of the sources in same order as source_light_model_list\n",
    "                          'cosmo': cosmo,  # astropy.cosmology instance\n",
    "                          'z_source_convention': 3,  # source redshfit to which the reduced deflections are computed, is the maximal redshift of the ray-tracing\n",
    "                          'z_source': 3,  # redshift of the default source (if not further specified by 'source_redshift_list') and also serves as the redshift of lensed point sources\n",
    "    }\n",
    "\n",
    "sim_g = SimAPI(numpix=numpix, kwargs_single_band=kwargs_g_band, kwargs_model=kwargs_model_physical, kwargs_numerics=kwargs_numerics)\n",
    "\n",
    "kwargs_mass = [{'sigma_v': 500, 'center_x': 0, 'center_y': 0, 'e1': 0.1, 'e2': 0}]\n",
    "\n",
    "sim = SimAPI(numpix=numpix, kwargs_single_band=kwargs_g_band, kwargs_model=kwargs_model_physical, kwargs_numerics=kwargs_numerics)\n",
    "\n",
    "imSim = sim.image_model_class\n",
    "\n",
    "kwargs_lens = sim.physical2lensing_conversion(kwargs_mass=kwargs_mass)\n",
    "print(kwargs_lens)\n",
    "\n",
    "kwargs_ps_mag_g = [{'magnitude': 21, 'ra_source': 0.03, 'dec_source': 0}]\n",
    "kwargs_lens_light_mag_g = [{'magnitude': 20, 'R_sersic': .6, 'n_sersic': 4, 'e1': 0.1, 'e2': -0.1, 'center_x': 0, 'center_y': 0}]\n",
    "# source light\n",
    "kwargs_source_mag_g = [{'magnitude': 22, 'R_sersic': 0.4, 'n_sersic': 2, 'e1': -0.3, 'e2': -0.2, 'center_x': 0, 'center_y': 0},\n",
    "                      {'magnitude': 23, 'R_sersic': 0.8, 'n_sersic': 3, 'center_x': 0., 'center_y': 0}]\n",
    "kwargs_lens_light_g, kwargs_source_g, kwargs_ps_g = sim_g.magnitude2amplitude(kwargs_lens_light_mag_g, kwargs_source_mag_g, kwargs_ps_mag_g)\n",
    "\n",
    "\n",
    "image_g = imSim.image(kwargs_lens, kwargs_source_g, kwargs_lens_light_g)\n",
    "image_g += sim.noise_for_model(model=image_g)\n",
    "\n",
    "plt.matshow(np.log10(image_g))\n",
    "plt.show()"
   ]
  },
  {
   "cell_type": "code",
   "execution_count": null,
   "metadata": {},
   "outputs": [],
   "source": []
  },
  {
   "cell_type": "code",
   "execution_count": null,
   "metadata": {},
   "outputs": [],
   "source": []
  }
 ],
 "metadata": {
  "kernelspec": {
   "display_name": "Python 3",
   "language": "python",
   "name": "python3"
  },
  "language_info": {
   "codemirror_mode": {
    "name": "ipython",
    "version": 3
   },
   "file_extension": ".py",
   "mimetype": "text/x-python",
   "name": "python",
   "nbconvert_exporter": "python",
   "pygments_lexer": "ipython3",
   "version": "3.7.3"
  }
 },
 "nbformat": 4,
 "nbformat_minor": 2
}
