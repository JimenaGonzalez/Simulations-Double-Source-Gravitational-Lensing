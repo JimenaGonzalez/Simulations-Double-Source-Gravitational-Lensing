{
 "cells": [
  {
   "cell_type": "code",
   "execution_count": 1,
   "metadata": {},
   "outputs": [],
   "source": [
    "import numpy as np\n",
    "import matplotlib.pyplot as plt\n",
    "import pandas as pd\n",
    "from sklearn.linear_model import LinearRegression"
   ]
  },
  {
   "cell_type": "code",
   "execution_count": 2,
   "metadata": {},
   "outputs": [
    {
     "data": {
      "image/png": "[encoded data removed]",
      "text/plain": [
       "<Figure size 432x288 with 1 Axes>"
      ]
     },
     "metadata": {
      "needs_background": "light"
     },
     "output_type": "display_data"
    }
   ],
   "source": [
    "# Some data points of the right plot in Figure 7 \n",
    "#https://iopscience.iop.org/article/10.3847/1538-4357/aa6540/pdf\n",
    "log_sigma = [0.6, 1., 1.6, 2., 2.6, 3.]\n",
    "log_lum = [7, 7.8, 9., 9.7, 11.1, 11.8]\n",
    "plt.figure()\n",
    "plt.title('Luminosity vs velocity of dispersion for ETG')\n",
    "plt.xlabel(u'$\\log_{10}({\\sigma})\\ [km/s]$')\n",
    "plt.ylabel(u'$\\log_{10}({L_v})\\ [L_{\\odot}]$')\n",
    "plt.scatter(log_sigma, log_lum)\n",
    "plt.show()"
   ]
  },
  {
   "cell_type": "code",
   "execution_count": 3,
   "metadata": {},
   "outputs": [
    {
     "name": "stdout",
     "output_type": "stream",
     "text": [
      "a = 2.014150943396226\n",
      "b = 5.774528301886793\n"
     ]
    }
   ],
   "source": [
    "coefficients = np.polyfit(log_sigma, log_lum, 1)\n",
    "print( 'a =', coefficients[0]) #Slope\n",
    "print( 'b =', coefficients[1]) #Intercept"
   ]
  },
  {
   "cell_type": "code",
   "execution_count": 4,
   "metadata": {},
   "outputs": [],
   "source": [
    "# Faber-Jackson relation from the papper:\n",
    "def luminosity_function(sigma):\n",
    "    a, b = 2.01, 5.77 #slope and intercept for V-band\n",
    "    L = 10**(a*np.log10(sigma) + b)\n",
    "    return L #in solar luminosities"
   ]
  },
  {
   "cell_type": "code",
   "execution_count": 5,
   "metadata": {},
   "outputs": [
    {
     "data": {
      "text/html": [
       "<div>\n",
       "<style scoped>\n",
       "    .dataframe tbody tr th:only-of-type {\n",
       "        vertical-align: middle;\n",
       "    }\n",
       "\n",
       "    .dataframe tbody tr th {\n",
       "        vertical-align: top;\n",
       "    }\n",
       "\n",
       "    .dataframe thead th {\n",
       "        text-align: right;\n",
       "    }\n",
       "</style>\n",
       "<table border=\"1\" class=\"dataframe\">\n",
       "  <thead>\n",
       "    <tr style=\"text-align: right;\">\n",
       "      <th></th>\n",
       "      <th>SDSS</th>\n",
       "      <th>Plate</th>\n",
       "      <th>MJD</th>\n",
       "      <th>Fiber</th>\n",
       "      <th>zFG</th>\n",
       "      <th>zBG</th>\n",
       "      <th>Imag</th>\n",
       "      <th>n_Imag</th>\n",
       "      <th>AI</th>\n",
       "      <th>Name</th>\n",
       "      <th>...</th>\n",
       "      <th>PA</th>\n",
       "      <th>sigma</th>\n",
       "      <th>e_sigma</th>\n",
       "      <th>Mph</th>\n",
       "      <th>Mul</th>\n",
       "      <th>Lens</th>\n",
       "      <th>n_Lens</th>\n",
       "      <th>Sloan</th>\n",
       "      <th>_RA</th>\n",
       "      <th>_DE</th>\n",
       "    </tr>\n",
       "  </thead>\n",
       "  <tbody>\n",
       "    <tr>\n",
       "      <th>0</th>\n",
       "      <td>000802.96-000408.2</td>\n",
       "      <td>669</td>\n",
       "      <td>52559</td>\n",
       "      <td>156</td>\n",
       "      <td>0.4400</td>\n",
       "      <td>1.1924</td>\n",
       "      <td>18.65</td>\n",
       "      <td>d</td>\n",
       "      <td>0.12</td>\n",
       "      <td>J0008-0004</td>\n",
       "      <td>...</td>\n",
       "      <td>27.3</td>\n",
       "      <td></td>\n",
       "      <td></td>\n",
       "      <td>E</td>\n",
       "      <td>S</td>\n",
       "      <td>A</td>\n",
       "      <td></td>\n",
       "      <td>Sloan</td>\n",
       "      <td>2.01233</td>\n",
       "      <td>-0.06894</td>\n",
       "    </tr>\n",
       "    <tr>\n",
       "      <th>1</th>\n",
       "      <td>002817.87-092934.3</td>\n",
       "      <td>653</td>\n",
       "      <td>52145</td>\n",
       "      <td>590</td>\n",
       "      <td>0.0565</td>\n",
       "      <td>0.7146</td>\n",
       "      <td>13.75</td>\n",
       "      <td>s</td>\n",
       "      <td>0.07</td>\n",
       "      <td>J0028-0929</td>\n",
       "      <td>...</td>\n",
       "      <td>78.9</td>\n",
       "      <td>147</td>\n",
       "      <td>7</td>\n",
       "      <td>L</td>\n",
       "      <td>S</td>\n",
       "      <td>X</td>\n",
       "      <td></td>\n",
       "      <td>Sloan</td>\n",
       "      <td>7.07446</td>\n",
       "      <td>-9.49286</td>\n",
       "    </tr>\n",
       "    <tr>\n",
       "      <th>2</th>\n",
       "      <td>002907.77-005550.5</td>\n",
       "      <td>391</td>\n",
       "      <td>51782</td>\n",
       "      <td>88</td>\n",
       "      <td>0.2270</td>\n",
       "      <td>0.9313</td>\n",
       "      <td>17.09</td>\n",
       "      <td>d</td>\n",
       "      <td>0.04</td>\n",
       "      <td>J0029-0055</td>\n",
       "      <td>...</td>\n",
       "      <td>26.6</td>\n",
       "      <td>229</td>\n",
       "      <td>18</td>\n",
       "      <td>E</td>\n",
       "      <td>S</td>\n",
       "      <td>A</td>\n",
       "      <td></td>\n",
       "      <td>Sloan</td>\n",
       "      <td>7.28237</td>\n",
       "      <td>-0.93069</td>\n",
       "    </tr>\n",
       "    <tr>\n",
       "      <th>3</th>\n",
       "      <td>003753.21-094220.1</td>\n",
       "      <td>655</td>\n",
       "      <td>52162</td>\n",
       "      <td>392</td>\n",
       "      <td>0.1955</td>\n",
       "      <td>0.6322</td>\n",
       "      <td>16.26</td>\n",
       "      <td>s</td>\n",
       "      <td>0.06</td>\n",
       "      <td>J0037-0942</td>\n",
       "      <td>...</td>\n",
       "      <td>11.4</td>\n",
       "      <td>279</td>\n",
       "      <td>14</td>\n",
       "      <td>E</td>\n",
       "      <td>S</td>\n",
       "      <td>A</td>\n",
       "      <td></td>\n",
       "      <td>Sloan</td>\n",
       "      <td>9.47171</td>\n",
       "      <td>-9.70558</td>\n",
       "    </tr>\n",
       "    <tr>\n",
       "      <th>4</th>\n",
       "      <td>004402.90+011312.6</td>\n",
       "      <td>393</td>\n",
       "      <td>51794</td>\n",
       "      <td>456</td>\n",
       "      <td>0.1196</td>\n",
       "      <td>0.1965</td>\n",
       "      <td>15.73</td>\n",
       "      <td>s</td>\n",
       "      <td>0.04</td>\n",
       "      <td>J0044+0113</td>\n",
       "      <td>...</td>\n",
       "      <td>151.3</td>\n",
       "      <td>266</td>\n",
       "      <td>13</td>\n",
       "      <td>E</td>\n",
       "      <td>S</td>\n",
       "      <td>A</td>\n",
       "      <td></td>\n",
       "      <td>Sloan</td>\n",
       "      <td>11.01208</td>\n",
       "      <td>1.22017</td>\n",
       "    </tr>\n",
       "  </tbody>\n",
       "</table>\n",
       "<p>5 rows × 24 columns</p>\n",
       "</div>"
      ],
      "text/plain": [
       "                 SDSS  Plate    MJD  Fiber     zFG     zBG   Imag n_Imag  \\\n",
       "0  000802.96-000408.2    669  52559    156  0.4400  1.1924  18.65      d   \n",
       "1  002817.87-092934.3    653  52145    590  0.0565  0.7146  13.75      s   \n",
       "2  002907.77-005550.5    391  51782     88  0.2270  0.9313  17.09      d   \n",
       "3  003753.21-094220.1    655  52162    392  0.1955  0.6322  16.26      s   \n",
       "4  004402.90+011312.6    393  51794    456  0.1196  0.1965  15.73      s   \n",
       "\n",
       "     AI        Name  ...     PA sigma e_sigma Mph Mul Lens n_Lens  Sloan  \\\n",
       "0  0.12  J0008-0004  ...   27.3                 E   S    A         Sloan   \n",
       "1  0.07  J0028-0929  ...   78.9   147       7   L   S    X         Sloan   \n",
       "2  0.04  J0029-0055  ...   26.6   229      18   E   S    A         Sloan   \n",
       "3  0.06  J0037-0942  ...   11.4   279      14   E   S    A         Sloan   \n",
       "4  0.04  J0044+0113  ...  151.3   266      13   E   S    A         Sloan   \n",
       "\n",
       "        _RA      _DE  \n",
       "0   2.01233 -0.06894  \n",
       "1   7.07446 -9.49286  \n",
       "2   7.28237 -0.93069  \n",
       "3   9.47171 -9.70558  \n",
       "4  11.01208  1.22017  \n",
       "\n",
       "[5 rows x 24 columns]"
      ]
     },
     "execution_count": 5,
     "metadata": {},
     "output_type": "execute_result"
    }
   ],
   "source": [
    "# Uploading data from SLAC sample\n",
    "data = pd.read_csv('data.csv',delimiter='\\t',encoding='utf-8')\n",
    "data.head()"
   ]
  },
  {
   "cell_type": "code",
   "execution_count": 6,
   "metadata": {},
   "outputs": [
    {
     "data": {
      "image/png": "[encoded data removed]",
      "text/plain": [
       "<Figure size 432x360 with 1 Axes>"
      ]
     },
     "metadata": {
      "needs_background": "light"
     },
     "output_type": "display_data"
    }
   ],
   "source": [
    "luminosity_slac, velocity = [], []\n",
    "for index, row in data.iterrows():\n",
    "    L, sigma = row['L(V555)'], row['sigma']\n",
    "    if(L !='   ' and sigma !='   '):\n",
    "        L, sigma = float(L), float(sigma)\n",
    "        luminosity_slac.append(L)\n",
    "        velocity.append(sigma)\n",
    "plt.figure(figsize=(6,5))\n",
    "plt.scatter(np.log10(velocity), np.log10(luminosity_slac))\n",
    "plt.title('Luminosity vs Velocity of dispersion for the SLAC sample')\n",
    "plt.xlabel(u'$\\log_{10}({\\sigma})\\ [km/s]$')\n",
    "plt.ylabel(u'$\\log_{10}({L})\\ [L_{\\odot}]$')\n",
    "plt.xscale('log')\n",
    "plt.yscale('log')\n",
    "plt.show()"
   ]
  },
  {
   "cell_type": "code",
   "execution_count": 7,
   "metadata": {},
   "outputs": [
    {
     "data": {
      "image/png": "[encoded data removed]",
      "text/plain": [
       "<Figure size 432x360 with 1 Axes>"
      ]
     },
     "metadata": {
      "needs_background": "light"
     },
     "output_type": "display_data"
    }
   ],
   "source": [
    "# Linear-regression for SLAC sample and data for plot of the fit\n",
    "coefficients = np.polyfit(np.log10(velocity), np.log10(luminosity_slac), 1)\n",
    "x_slac_fit = np.linspace(np.log10(120),np.log10(420),100)\n",
    "y_slac_fit = coefficients[0]*x_slac_fit + coefficients[1]\n",
    "# Fit from the paper:\n",
    "x_paper_fit = np.linspace(120, 420,100)\n",
    "y_paper_fit = luminosity_function(x_paper_fit)\n",
    "# Plot\n",
    "plt.figure(figsize=(6,5))\n",
    "plt.scatter(np.log10(velocity), np.log10(luminosity_slac), label='SLAC data')\n",
    "plt.plot(x_slac_fit, y_slac_fit, label='SLAC fit')\n",
    "plt.plot(np.log10(x_paper_fit), np.log10(y_paper_fit), label='Paper fit')\n",
    "plt.title('Luminosity vs Velocity of dispersion')\n",
    "plt.xlabel(u'$\\log_{10}({\\sigma})\\ [km/s]$')\n",
    "plt.ylabel(u'$\\log_{10}({L})\\ [L_{\\odot}]$')\n",
    "plt.xscale('log')\n",
    "plt.yscale('log')\n",
    "plt.legend()\n",
    "plt.show()"
   ]
  },
  {
   "cell_type": "code",
   "execution_count": null,
   "metadata": {},
   "outputs": [],
   "source": []
  }
 ],
 "metadata": {
  "kernelspec": {
   "display_name": "Python 3",
   "language": "python",
   "name": "python3"
  },
  "language_info": {
   "codemirror_mode": {
    "name": "ipython",
    "version": 3
   },
   "file_extension": ".py",
   "mimetype": "text/x-python",
   "name": "python",
   "nbconvert_exporter": "python",
   "pygments_lexer": "ipython3",
   "version": "3.7.3"
  }
 },
 "nbformat": 4,
 "nbformat_minor": 2
}
