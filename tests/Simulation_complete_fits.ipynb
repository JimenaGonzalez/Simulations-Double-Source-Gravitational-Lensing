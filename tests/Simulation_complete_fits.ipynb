{
 "cells": [
  {
   "cell_type": "code",
   "execution_count": 1,
   "metadata": {},
   "outputs": [],
   "source": [
    "import os\n",
    "from os import path\n",
    "import numpy as np\n",
    "import random\n",
    "import copy\n",
    "import pandas as pd\n",
    "import ipython_bell\n",
    "\n",
    "from astropy.io import fits\n",
    "from astropy.table import Table\n",
    "import matplotlib.pyplot as plt\n",
    "import matplotlib.ticker as plticker\n",
    "from astropy.visualization import make_lupton_rgb\n",
    "import sys"
   ]
  },
  {
   "cell_type": "code",
   "execution_count": 2,
   "metadata": {},
   "outputs": [],
   "source": [
    "#Makes 3 plots per image: source simulation, lens cutout, complete simulation\n",
    "def make_graphs(name, sim_i, sim_r, sim_g, cutout_i, cutout_r, cutout_g):\n",
    "    loc = plticker.MultipleLocator(base=3.75)\n",
    "    fig, (ax1, ax2, ax3) = plt.subplots(figsize=(15, 4), ncols=3)\n",
    "\n",
    "    rgb = make_lupton_rgb(sim_i, sim_r, sim_g, Q=11., stretch=40.)\n",
    "    ax1.set_title('Source(s)')\n",
    "    ax1.xaxis.set_ticklabels([])\n",
    "    ax1.yaxis.set_ticklabels([])\n",
    "    #ax1.xaxis.set_major_locator(loc)\n",
    "    #ax1.yaxis.set_major_locator(loc)\n",
    "    #ax1.grid(which='major', axis='both', linestyle='-')\n",
    "    original = ax1.imshow(rgb, aspect='equal')#, vmin=0, vmax = 250)\n",
    "    #fig.colorbar(original, ax=ax1)\n",
    "\n",
    "    rgb = make_lupton_rgb(cutout_i, cutout_r, cutout_g, Q=11., stretch=40.)\n",
    "    ax2.set_title('Lens')\n",
    "    ax2.xaxis.set_ticklabels([])\n",
    "    ax2.yaxis.set_ticklabels([])\n",
    "    #ax2.xaxis.set_major_locator(loc)\n",
    "    #ax2.yaxis.set_major_locator(loc)\n",
    "    #ax2.grid(which='major', axis='both', linestyle='-')\n",
    "    cutout = ax2.imshow(rgb, aspect='equal')\n",
    "    #fig.colorbar(cutout, ax=ax2)\n",
    "            \n",
    "    rgb = make_lupton_rgb(sim_i+cutout_i, sim_r+cutout_r, sim_g+cutout_g, Q=11., stretch=40.)\n",
    "    ax3.set_title('Complete Simulation')\n",
    "    ax3.xaxis.set_ticklabels([])\n",
    "    ax3.yaxis.set_ticklabels([])\n",
    "    #ax3.xaxis.set_major_locator(loc)\n",
    "    #ax3.yaxis.set_major_locator(loc)\n",
    "    #ax3.grid(which='major', axis='both', linestyle='-')\n",
    "    projection = ax3.imshow(rgb, aspect='equal')\n",
    "    #fig.colorbar(projection, ax=ax3)\n",
    "    sub_path = '/Users/jimenagonzalez/research/DSPL/Simulations-Double-Source-Gravitational-Lensing/'\n",
    "    #plt.savefig(sub_path + 'Data/Sim_complete/Image' + name + '.png', bbox_inches='tight')\n",
    "    plt.show()"
   ]
  },
  {
   "cell_type": "code",
   "execution_count": 3,
   "metadata": {},
   "outputs": [],
   "source": [
    "# Writes fit file\n",
    "def write_fit_file(name, x, datos):\n",
    "    primary = fits.PrimaryHDU()\n",
    "    image = fits.ImageHDU(x, name=\"IMAGE\")\n",
    "    #table = fits.TableHDU(data = datos)\n",
    "    table = fits.BinTableHDU(data = datos)\n",
    "    hdu_list = fits.HDUList([primary, image, table])\n",
    "    hdu_list.writeto('/Users/jimenagonzalez/research/DSPL/Simulations-Double-Source-Gravitational-Lensing/Data/Sim_complete/' + name + '.fits', overwrite=True)"
   ]
  },
  {
   "cell_type": "code",
   "execution_count": 4,
   "metadata": {},
   "outputs": [],
   "source": [
    "def complete_simulations(m, ids):\n",
    "    directory_sim = '/Users/jimenagonzalez/research/DSPL/Simulations-Double-Source-Gravitational-Lensing/Data/Sim/'\n",
    "    directory_cutouts = '/Users/jimenagonzalez/research/DSPL/Simulations-Double-Source-Gravitational-Lensing/Data/lens_cutouts/'\n",
    "    end_name = ['_g.fits', '_i.fits', '_r.fits']\n",
    "    x = np.zeros((1,3,46,46)) #Complete Simulations\n",
    "    n = 0\n",
    "    for lens_id in ids:\n",
    "        path_sim_id = directory_sim + str(lens_id)\n",
    "        if(n >= m):\n",
    "            break\n",
    "        #check that the sim id folder exist (if not continue)\n",
    "        if(os.path.exists(path_sim_id) == False):\n",
    "            continue\n",
    "        num_sim_id = int(len(os.listdir(path_sim_id))/3) # num sim with same lens\n",
    "        #loop on each simulation produced using the same lens\n",
    "        for j in range(1, num_sim_id+1):\n",
    "            n += 1 #number of total simulations\n",
    "            path_cutout = directory_cutouts + str(lens_id) \n",
    "            path_sim = path_sim_id + '/' + str(j)\n",
    "            if(os.path.exists(path_cutout + end_name[0]) == False): \n",
    "                continue\n",
    "            with fits.open(path_cutout + end_name[0]) as hdul: cutout_g = hdul[0].data\n",
    "            with fits.open(path_cutout + end_name[1]) as hdul: cutout_i = hdul[0].data\n",
    "            with fits.open(path_cutout + end_name[2]) as hdul: cutout_r = hdul[0].data\n",
    "            with fits.open(path_sim + end_name[0]) as hdul: sim_g = hdul[0].data\n",
    "            with fits.open(path_sim + end_name[1]) as hdul: sim_i = hdul[0].data\n",
    "            with fits.open(path_sim + end_name[2]) as hdul: sim_r = hdul[0].data\n",
    "            \n",
    "            ele_sim = np.array([cutout_g + sim_g, cutout_r + sim_r, cutout_i + sim_i])\n",
    "            ele_sim = np.rot90(ele_sim, k=random.randint(0, 4), axes=(1, 2))\n",
    "            if(random.randint(0, 1) == 1):\n",
    "                ele_sim = np.flip(ele_sim, 2)\n",
    "            x = np.append(x, [ele_sim], axis = 0)\n",
    "    x = np.delete(x, 0, axis = 0)\n",
    "    return(x)"
   ]
  },
  {
   "cell_type": "code",
   "execution_count": 5,
   "metadata": {
    "scrolled": true
   },
   "outputs": [
    {
     "name": "stdout",
     "output_type": "stream",
     "text": [
      "10\n"
     ]
    }
   ],
   "source": [
    "#19712 lens cutouts\n",
    "ids = pd.read_csv('/Users/jimenagonzalez/research/DSPL/Simulations-Double-Source-Gravitational-Lensing/Data/all_data_sim.csv')['COADD_OBJECT_ID'].sample(frac = 1)\n",
    "x = complete_simulations(10, ids)\n",
    "print(len(x))"
   ]
  },
  {
   "cell_type": "code",
   "execution_count": 6,
   "metadata": {},
   "outputs": [
    {
     "name": "stdout",
     "output_type": "stream",
     "text": [
      "[[0. 0. 0. 0.]\n",
      " [1. 1. 1. 1.]\n",
      " [1. 2. 3. 4.]\n",
      " [0. 0. 0. 0.]\n",
      " [1. 1. 1. 1.]\n",
      " [1. 2. 3. 4.]\n",
      " [0. 0. 0. 0.]\n",
      " [1. 1. 1. 1.]\n",
      " [1. 2. 3. 4.]\n",
      " [0. 0. 0. 0.]]\n"
     ]
    },
    {
     "data": {
      "text/html": [
       "<i>Table length=10</i>\n",
       "<table id=\"table140311180109072\" class=\"table-striped table-bordered table-condensed\">\n",
       "<thead><tr><th>a</th><th>b</th><th>c</th><th>d</th></tr></thead>\n",
       "<thead><tr><th>float64</th><th>float64</th><th>float64</th><th>float64</th></tr></thead>\n",
       "<tr><td>0.0</td><td>0.0</td><td>0.0</td><td>0.0</td></tr>\n",
       "<tr><td>1.0</td><td>1.0</td><td>1.0</td><td>1.0</td></tr>\n",
       "<tr><td>1.0</td><td>2.0</td><td>3.0</td><td>4.0</td></tr>\n",
       "<tr><td>0.0</td><td>0.0</td><td>0.0</td><td>0.0</td></tr>\n",
       "<tr><td>1.0</td><td>1.0</td><td>1.0</td><td>1.0</td></tr>\n",
       "<tr><td>1.0</td><td>2.0</td><td>3.0</td><td>4.0</td></tr>\n",
       "<tr><td>0.0</td><td>0.0</td><td>0.0</td><td>0.0</td></tr>\n",
       "<tr><td>1.0</td><td>1.0</td><td>1.0</td><td>1.0</td></tr>\n",
       "<tr><td>1.0</td><td>2.0</td><td>3.0</td><td>4.0</td></tr>\n",
       "<tr><td>0.0</td><td>0.0</td><td>0.0</td><td>0.0</td></tr>\n",
       "</table>"
      ],
      "text/plain": [
       "<Table length=10>\n",
       "   a       b       c       d   \n",
       "float64 float64 float64 float64\n",
       "------- ------- ------- -------\n",
       "    0.0     0.0     0.0     0.0\n",
       "    1.0     1.0     1.0     1.0\n",
       "    1.0     2.0     3.0     4.0\n",
       "    0.0     0.0     0.0     0.0\n",
       "    1.0     1.0     1.0     1.0\n",
       "    1.0     2.0     3.0     4.0\n",
       "    0.0     0.0     0.0     0.0\n",
       "    1.0     1.0     1.0     1.0\n",
       "    1.0     2.0     3.0     4.0\n",
       "    0.0     0.0     0.0     0.0"
      ]
     },
     "execution_count": 6,
     "metadata": {},
     "output_type": "execute_result"
    }
   ],
   "source": [
    "#generating table:\n",
    "\n",
    "datos = np.zeros((1,4))\n",
    "ele_sim = np.array([1,2,3,4])\n",
    "\n",
    "for i in range(3):\n",
    "    datos = np.append(datos, np.ones((1,4)), axis = 0)\n",
    "    datos = np.append(datos, [ele_sim], axis = 0)  \n",
    "    datos = np.append(datos, np.zeros((1,4)), axis = 0)\n",
    "\n",
    "print(datos)\n",
    "\n",
    "names = ['a', 'b', 'c', 'd']\n",
    "datos = Table(data = datos, names = names)\n",
    "datos"
   ]
  },
  {
   "cell_type": "code",
   "execution_count": 7,
   "metadata": {},
   "outputs": [],
   "source": [
    "name_file = 'other' #'other'"
   ]
  },
  {
   "cell_type": "code",
   "execution_count": 8,
   "metadata": {},
   "outputs": [
    {
     "name": "stdout",
     "output_type": "stream",
     "text": [
      "(10, 3, 46, 46)\n"
     ]
    }
   ],
   "source": [
    "print(x.shape)\n",
    "write_fit_file(name_file, x, datos)"
   ]
  },
  {
   "cell_type": "code",
   "execution_count": 9,
   "metadata": {},
   "outputs": [],
   "source": [
    "# convert -delay 140 -loop 0 *.png Complete_cut_sim.gif"
   ]
  },
  {
   "cell_type": "code",
   "execution_count": 10,
   "metadata": {},
   "outputs": [
    {
     "name": "stdout",
     "output_type": "stream",
     "text": [
      "Filename: /Users/jimenagonzalez/research/DSPL/Simulations-Double-Source-Gravitational-Lensing/Data/Sim_complete/other.fits\n",
      "No.    Name      Ver    Type      Cards   Dimensions   Format\n",
      "  0  PRIMARY       1 PrimaryHDU       4   ()      \n",
      "  1  IMAGE         1 ImageHDU        10   (46, 46, 3, 10)   float64   \n",
      "  2                1 BinTableHDU     16   10R x 4C   [D, D, D, D]   \n"
     ]
    }
   ],
   "source": [
    "filename = '/Users/jimenagonzalez/research/DSPL/Simulations-Double-Source-Gravitational-Lensing/Data/Sim_complete/'\n",
    "filename = filename + 'other.fits'\n",
    "hdul = fits.open(filename)\n",
    "hdul.info()"
   ]
  },
  {
   "cell_type": "code",
   "execution_count": 25,
   "metadata": {},
   "outputs": [
    {
     "data": {
      "text/html": [
       "<div>\n",
       "<style scoped>\n",
       "    .dataframe tbody tr th:only-of-type {\n",
       "        vertical-align: middle;\n",
       "    }\n",
       "\n",
       "    .dataframe tbody tr th {\n",
       "        vertical-align: top;\n",
       "    }\n",
       "\n",
       "    .dataframe thead th {\n",
       "        text-align: right;\n",
       "    }\n",
       "</style>\n",
       "<table border=\"1\" class=\"dataframe\">\n",
       "  <thead>\n",
       "    <tr style=\"text-align: right;\">\n",
       "      <th></th>\n",
       "      <th>a</th>\n",
       "      <th>b</th>\n",
       "      <th>c</th>\n",
       "      <th>d</th>\n",
       "    </tr>\n",
       "  </thead>\n",
       "  <tbody>\n",
       "    <tr>\n",
       "      <th>0</th>\n",
       "      <td>0.0</td>\n",
       "      <td>0.0</td>\n",
       "      <td>0.0</td>\n",
       "      <td>0.0</td>\n",
       "    </tr>\n",
       "    <tr>\n",
       "      <th>1</th>\n",
       "      <td>1.0</td>\n",
       "      <td>1.0</td>\n",
       "      <td>1.0</td>\n",
       "      <td>1.0</td>\n",
       "    </tr>\n",
       "    <tr>\n",
       "      <th>2</th>\n",
       "      <td>1.0</td>\n",
       "      <td>2.0</td>\n",
       "      <td>3.0</td>\n",
       "      <td>4.0</td>\n",
       "    </tr>\n",
       "    <tr>\n",
       "      <th>3</th>\n",
       "      <td>0.0</td>\n",
       "      <td>0.0</td>\n",
       "      <td>0.0</td>\n",
       "      <td>0.0</td>\n",
       "    </tr>\n",
       "    <tr>\n",
       "      <th>4</th>\n",
       "      <td>1.0</td>\n",
       "      <td>1.0</td>\n",
       "      <td>1.0</td>\n",
       "      <td>1.0</td>\n",
       "    </tr>\n",
       "    <tr>\n",
       "      <th>5</th>\n",
       "      <td>1.0</td>\n",
       "      <td>2.0</td>\n",
       "      <td>3.0</td>\n",
       "      <td>4.0</td>\n",
       "    </tr>\n",
       "    <tr>\n",
       "      <th>6</th>\n",
       "      <td>0.0</td>\n",
       "      <td>0.0</td>\n",
       "      <td>0.0</td>\n",
       "      <td>0.0</td>\n",
       "    </tr>\n",
       "    <tr>\n",
       "      <th>7</th>\n",
       "      <td>1.0</td>\n",
       "      <td>1.0</td>\n",
       "      <td>1.0</td>\n",
       "      <td>1.0</td>\n",
       "    </tr>\n",
       "    <tr>\n",
       "      <th>8</th>\n",
       "      <td>1.0</td>\n",
       "      <td>2.0</td>\n",
       "      <td>3.0</td>\n",
       "      <td>4.0</td>\n",
       "    </tr>\n",
       "    <tr>\n",
       "      <th>9</th>\n",
       "      <td>0.0</td>\n",
       "      <td>0.0</td>\n",
       "      <td>0.0</td>\n",
       "      <td>0.0</td>\n",
       "    </tr>\n",
       "  </tbody>\n",
       "</table>\n",
       "</div>"
      ],
      "text/plain": [
       "     a    b    c    d\n",
       "0  0.0  0.0  0.0  0.0\n",
       "1  1.0  1.0  1.0  1.0\n",
       "2  1.0  2.0  3.0  4.0\n",
       "3  0.0  0.0  0.0  0.0\n",
       "4  1.0  1.0  1.0  1.0\n",
       "5  1.0  2.0  3.0  4.0\n",
       "6  0.0  0.0  0.0  0.0\n",
       "7  1.0  1.0  1.0  1.0\n",
       "8  1.0  2.0  3.0  4.0\n",
       "9  0.0  0.0  0.0  0.0"
      ]
     },
     "execution_count": 25,
     "metadata": {},
     "output_type": "execute_result"
    }
   ],
   "source": [
    "data = hdul[2].data\n",
    "df = pd.DataFrame(hdul[2].data)\n",
    "df"
   ]
  },
  {
   "cell_type": "code",
   "execution_count": null,
   "metadata": {},
   "outputs": [],
   "source": []
  }
 ],
 "metadata": {
  "kernelspec": {
   "display_name": "Python 3",
   "language": "python",
   "name": "python3"
  },
  "language_info": {
   "codemirror_mode": {
    "name": "ipython",
    "version": 3
   },
   "file_extension": ".py",
   "mimetype": "text/x-python",
   "name": "python",
   "nbconvert_exporter": "python",
   "pygments_lexer": "ipython3",
   "version": "3.7.7"
  }
 },
 "nbformat": 4,
 "nbformat_minor": 4
}
