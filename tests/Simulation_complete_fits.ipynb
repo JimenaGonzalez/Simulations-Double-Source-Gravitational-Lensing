{
 "cells": [
  {
   "cell_type": "code",
   "execution_count": 1,
   "metadata": {},
   "outputs": [],
   "source": [
    "import os\n",
    "from os import path\n",
    "import numpy as np\n",
    "import random\n",
    "import copy\n",
    "import pandas as pd\n",
    "import ipython_bell\n",
    "\n",
    "from astropy.io import fits\n",
    "from astropy.table import Table\n",
    "import matplotlib.pyplot as plt\n",
    "import matplotlib.ticker as plticker\n",
    "from astropy.visualization import make_lupton_rgb\n",
    "import sys\n",
    "\n",
    "plt.style.use('dark_background')"
   ]
  },
  {
   "cell_type": "code",
   "execution_count": 2,
   "metadata": {},
   "outputs": [],
   "source": [
    "#Makes 3 plots per image: source simulation, lens cutout, complete simulation\n",
    "def make_graphs(name, sim_i, sim_r, sim_g, cutout_i, cutout_r, cutout_g):\n",
    "    loc = plticker.MultipleLocator(base=3.75)\n",
    "    fig, (ax1, ax2, ax3) = plt.subplots(figsize=(15, 4), ncols=3)\n",
    "\n",
    "    rgb = make_lupton_rgb(sim_i, sim_r, sim_g, Q=11., stretch=40.)\n",
    "    ax1.set_title('Source(s)')\n",
    "    ax1.xaxis.set_ticklabels([])\n",
    "    ax1.yaxis.set_ticklabels([])\n",
    "    #ax1.xaxis.set_major_locator(loc)\n",
    "    #ax1.yaxis.set_major_locator(loc)\n",
    "    #ax1.grid(which='major', axis='both', linestyle='-')\n",
    "    original = ax1.imshow(rgb, aspect='equal')#, vmin=0, vmax = 250)\n",
    "    #fig.colorbar(original, ax=ax1)\n",
    "\n",
    "    rgb = make_lupton_rgb(cutout_i, cutout_r, cutout_g, Q=11., stretch=40.)\n",
    "    ax2.set_title('Lens')\n",
    "    ax2.xaxis.set_ticklabels([])\n",
    "    ax2.yaxis.set_ticklabels([])\n",
    "    #ax2.xaxis.set_major_locator(loc)\n",
    "    #ax2.yaxis.set_major_locator(loc)\n",
    "    #ax2.grid(which='major', axis='both', linestyle='-')\n",
    "    cutout = ax2.imshow(rgb, aspect='equal')\n",
    "    #fig.colorbar(cutout, ax=ax2)\n",
    "            \n",
    "    rgb = make_lupton_rgb(sim_i+cutout_i, sim_r+cutout_r, sim_g+cutout_g, Q=11., stretch=40.)\n",
    "    ax3.set_title('Complete Simulation')\n",
    "    ax3.xaxis.set_ticklabels([])\n",
    "    ax3.yaxis.set_ticklabels([])\n",
    "    #ax3.xaxis.set_major_locator(loc)\n",
    "    #ax3.yaxis.set_major_locator(loc)\n",
    "    #ax3.grid(which='major', axis='both', linestyle='-')\n",
    "    projection = ax3.imshow(rgb, aspect='equal')\n",
    "    #fig.colorbar(projection, ax=ax3)\n",
    "    sub_path = '/Users/jimenagonzalez/research/DSPL/Simulations-Double-Source-Gravitational-Lensing/'\n",
    "    #plt.savefig(sub_path + 'Data/Sim_complete/Image' + name + '.png', bbox_inches='tight')\n",
    "    plt.show()"
   ]
  },
  {
   "cell_type": "code",
   "execution_count": 3,
   "metadata": {},
   "outputs": [],
   "source": [
    "# Writes fit file\n",
    "def write_fit_file(name, x, datos):\n",
    "    primary = fits.PrimaryHDU()\n",
    "    image = fits.ImageHDU(x, name=\"IMAGE\")\n",
    "    #table = fits.TableHDU(data = datos)\n",
    "    table = fits.BinTableHDU(data = datos)\n",
    "    hdu_list = fits.HDUList([primary, image, table])\n",
    "    hdu_list.writeto('/Users/jimenagonzalez/research/DSPL/Simulations-Double-Source-Gravitational-Lensing/Data/Sim_complete/' + name + '.fits', overwrite=True)"
   ]
  },
  {
   "cell_type": "code",
   "execution_count": 4,
   "metadata": {},
   "outputs": [],
   "source": [
    "def complete_simulations(m, ids):\n",
    "    directory_sim = '/Users/jimenagonzalez/research/DSPL/Simulations-Double-Source-Gravitational-Lensing/Data/Sim/'\n",
    "    directory_cutouts = '/Users/jimenagonzalez/research/DSPL/Simulations-Double-Source-Gravitational-Lensing/Data/lens_cutouts/'\n",
    "    end_name = ['_g.fits', '_i.fits', '_r.fits']\n",
    "    x = np.zeros((1,3,46,46)) #Complete Simulations\n",
    "    n = 0\n",
    "    for lens_id in ids:\n",
    "        path_sim_id = directory_sim + str(lens_id)\n",
    "        if(n >= m):\n",
    "            break\n",
    "        #check that the sim id folder exist (if not continue)\n",
    "        if(os.path.exists(path_sim_id) == False):\n",
    "            continue\n",
    "        num_sim_id = int(len(os.listdir(path_sim_id))/3) # num sim with same lens\n",
    "        #loop on each simulation produced using the same lens\n",
    "        for j in range(1, num_sim_id+1):\n",
    "            if(n >= m):\n",
    "                break\n",
    "            n += 1 #number of total simulations\n",
    "            path_cutout = directory_cutouts + str(lens_id) \n",
    "            path_sim = path_sim_id + '/' + str(j)\n",
    "            if(os.path.exists(path_cutout + end_name[0]) == False): \n",
    "                continue\n",
    "            with fits.open(path_cutout + end_name[0]) as hdul: cutout_g = hdul[0].data\n",
    "            with fits.open(path_cutout + end_name[1]) as hdul: cutout_i = hdul[0].data\n",
    "            with fits.open(path_cutout + end_name[2]) as hdul: cutout_r = hdul[0].data\n",
    "            with fits.open(path_sim + end_name[0]) as hdul: sim_g = hdul[0].data\n",
    "            with fits.open(path_sim + end_name[1]) as hdul: sim_i = hdul[0].data\n",
    "            with fits.open(path_sim + end_name[2]) as hdul: sim_r = hdul[0].data\n",
    "            \n",
    "            ele_sim = np.array([cutout_g + sim_g, cutout_r + sim_r, cutout_i + sim_i])\n",
    "            ele_sim = np.rot90(ele_sim, k=random.randint(0, 4), axes=(1, 2))\n",
    "            if(random.randint(0, 1) == 1):\n",
    "                ele_sim = np.flip(ele_sim, 2)\n",
    "            x = np.append(x, [ele_sim], axis = 0)\n",
    "    x = np.delete(x, 0, axis = 0)\n",
    "    return(x)"
   ]
  },
  {
   "cell_type": "code",
   "execution_count": 5,
   "metadata": {},
   "outputs": [
    {
     "name": "stdout",
     "output_type": "stream",
     "text": [
      "34\n"
     ]
    }
   ],
   "source": [
    "#19712 lens cutouts\n",
    "ids = pd.read_csv('/Users/jimenagonzalez/research/DSPL/Simulations-Double-Source-Gravitational-Lensing/Data/all_data_sim.csv')['COADD_OBJECT_ID'].sample(frac = 1)\n",
    "x = complete_simulations(34, ids)\n",
    "print(len(x))"
   ]
  },
  {
   "cell_type": "code",
   "execution_count": 6,
   "metadata": {},
   "outputs": [
    {
     "data": {
      "text/html": [
       "<i>Table length=34</i>\n",
       "<table id=\"table140286368916368\" class=\"table-striped table-bordered table-condensed\">\n",
       "<thead><tr><th>a</th><th>b</th><th>c</th><th>d</th></tr></thead>\n",
       "<thead><tr><th>float64</th><th>float64</th><th>float64</th><th>float64</th></tr></thead>\n",
       "<tr><td>0.0</td><td>0.0</td><td>0.0</td><td>0.0</td></tr>\n",
       "<tr><td>1.0</td><td>1.0</td><td>1.0</td><td>1.0</td></tr>\n",
       "<tr><td>1.0</td><td>2.0</td><td>3.0</td><td>4.0</td></tr>\n",
       "<tr><td>0.0</td><td>0.0</td><td>0.0</td><td>0.0</td></tr>\n",
       "<tr><td>1.0</td><td>1.0</td><td>1.0</td><td>1.0</td></tr>\n",
       "<tr><td>1.0</td><td>2.0</td><td>3.0</td><td>4.0</td></tr>\n",
       "<tr><td>0.0</td><td>0.0</td><td>0.0</td><td>0.0</td></tr>\n",
       "<tr><td>1.0</td><td>1.0</td><td>1.0</td><td>1.0</td></tr>\n",
       "<tr><td>1.0</td><td>2.0</td><td>3.0</td><td>4.0</td></tr>\n",
       "<tr><td>0.0</td><td>0.0</td><td>0.0</td><td>0.0</td></tr>\n",
       "<tr><td>...</td><td>...</td><td>...</td><td>...</td></tr>\n",
       "<tr><td>0.0</td><td>0.0</td><td>0.0</td><td>0.0</td></tr>\n",
       "<tr><td>1.0</td><td>1.0</td><td>1.0</td><td>1.0</td></tr>\n",
       "<tr><td>1.0</td><td>2.0</td><td>3.0</td><td>4.0</td></tr>\n",
       "<tr><td>0.0</td><td>0.0</td><td>0.0</td><td>0.0</td></tr>\n",
       "<tr><td>1.0</td><td>1.0</td><td>1.0</td><td>1.0</td></tr>\n",
       "<tr><td>1.0</td><td>2.0</td><td>3.0</td><td>4.0</td></tr>\n",
       "<tr><td>0.0</td><td>0.0</td><td>0.0</td><td>0.0</td></tr>\n",
       "<tr><td>1.0</td><td>1.0</td><td>1.0</td><td>1.0</td></tr>\n",
       "<tr><td>1.0</td><td>2.0</td><td>3.0</td><td>4.0</td></tr>\n",
       "<tr><td>0.0</td><td>0.0</td><td>0.0</td><td>0.0</td></tr>\n",
       "</table>"
      ],
      "text/plain": [
       "<Table length=34>\n",
       "   a       b       c       d   \n",
       "float64 float64 float64 float64\n",
       "------- ------- ------- -------\n",
       "    0.0     0.0     0.0     0.0\n",
       "    1.0     1.0     1.0     1.0\n",
       "    1.0     2.0     3.0     4.0\n",
       "    0.0     0.0     0.0     0.0\n",
       "    1.0     1.0     1.0     1.0\n",
       "    1.0     2.0     3.0     4.0\n",
       "    0.0     0.0     0.0     0.0\n",
       "    1.0     1.0     1.0     1.0\n",
       "    1.0     2.0     3.0     4.0\n",
       "    0.0     0.0     0.0     0.0\n",
       "    ...     ...     ...     ...\n",
       "    0.0     0.0     0.0     0.0\n",
       "    1.0     1.0     1.0     1.0\n",
       "    1.0     2.0     3.0     4.0\n",
       "    0.0     0.0     0.0     0.0\n",
       "    1.0     1.0     1.0     1.0\n",
       "    1.0     2.0     3.0     4.0\n",
       "    0.0     0.0     0.0     0.0\n",
       "    1.0     1.0     1.0     1.0\n",
       "    1.0     2.0     3.0     4.0\n",
       "    0.0     0.0     0.0     0.0"
      ]
     },
     "execution_count": 6,
     "metadata": {},
     "output_type": "execute_result"
    }
   ],
   "source": [
    "#generating table:\n",
    "\n",
    "datos = np.zeros((1,4))\n",
    "ele_sim = np.array([1,2,3,4])\n",
    "\n",
    "for i in range(11):\n",
    "    datos = np.append(datos, np.ones((1,4)), axis = 0)\n",
    "    datos = np.append(datos, [ele_sim], axis = 0)  \n",
    "    datos = np.append(datos, np.zeros((1,4)), axis = 0)\n",
    "\n",
    "#print(datos)\n",
    "\n",
    "names = ['a', 'b', 'c', 'd']\n",
    "datos = Table(data = datos, names = names)\n",
    "datos"
   ]
  },
  {
   "cell_type": "code",
   "execution_count": 7,
   "metadata": {},
   "outputs": [],
   "source": [
    "name_file = 'other' #'other'"
   ]
  },
  {
   "cell_type": "code",
   "execution_count": 8,
   "metadata": {},
   "outputs": [
    {
     "name": "stdout",
     "output_type": "stream",
     "text": [
      "(34, 3, 46, 46)\n"
     ]
    }
   ],
   "source": [
    "print(x.shape)\n",
    "write_fit_file(name_file, x, datos)"
   ]
  },
  {
   "cell_type": "code",
   "execution_count": 9,
   "metadata": {},
   "outputs": [
    {
     "name": "stdout",
     "output_type": "stream",
     "text": [
      "Filename: /Users/jimenagonzalez/research/DSPL/Simulations-Double-Source-Gravitational-Lensing/Data/Sim_complete/other.fits\n",
      "No.    Name      Ver    Type      Cards   Dimensions   Format\n",
      "  0  PRIMARY       1 PrimaryHDU       4   ()      \n",
      "  1  IMAGE         1 ImageHDU        10   (46, 46, 3, 34)   float64   \n",
      "  2                1 BinTableHDU     16   34R x 4C   [D, D, D, D]   \n"
     ]
    }
   ],
   "source": [
    "filename = '/Users/jimenagonzalez/research/DSPL/Simulations-Double-Source-Gravitational-Lensing/Data/Sim_complete/'\n",
    "filename = filename + 'other.fits'\n",
    "hdul = fits.open(filename)\n",
    "hdul.info()\n",
    "images = hdul[1].data.astype(np.float32)\n",
    "datos = hdul[2].data\n",
    "hdul.close()"
   ]
  },
  {
   "cell_type": "code",
   "execution_count": 10,
   "metadata": {},
   "outputs": [
    {
     "name": "stdout",
     "output_type": "stream",
     "text": [
      "(34, 3, 46, 46)\n",
      "(34,)\n"
     ]
    }
   ],
   "source": [
    "print(images.shape)\n",
    "l1, l2 = np.zeros(int(len(x)/2), dtype = np.int64), np.ones(int(len(x)/2), dtype = np.int64)\n",
    "labels = np.concatenate((l1, l2))\n",
    "print(labels.shape)"
   ]
  },
  {
   "cell_type": "code",
   "execution_count": 11,
   "metadata": {},
   "outputs": [
    {
     "name": "stdout",
     "output_type": "stream",
     "text": [
      "[(0., 0., 0., 0.) (1., 1., 1., 1.) (1., 2., 3., 4.) (0., 0., 0., 0.)\n",
      " (1., 1., 1., 1.) (1., 2., 3., 4.) (0., 0., 0., 0.) (1., 1., 1., 1.)\n",
      " (1., 2., 3., 4.) (0., 0., 0., 0.) (1., 1., 1., 1.) (1., 2., 3., 4.)\n",
      " (0., 0., 0., 0.) (1., 1., 1., 1.) (1., 2., 3., 4.) (0., 0., 0., 0.)\n",
      " (1., 1., 1., 1.) (1., 2., 3., 4.) (0., 0., 0., 0.) (1., 1., 1., 1.)\n",
      " (1., 2., 3., 4.) (0., 0., 0., 0.) (1., 1., 1., 1.) (1., 2., 3., 4.)\n",
      " (0., 0., 0., 0.) (1., 1., 1., 1.) (1., 2., 3., 4.) (0., 0., 0., 0.)\n",
      " (1., 1., 1., 1.) (1., 2., 3., 4.) (0., 0., 0., 0.) (1., 1., 1., 1.)\n",
      " (1., 2., 3., 4.) (0., 0., 0., 0.)]\n",
      "(34, 4)\n"
     ]
    }
   ],
   "source": [
    "print(datos)\n",
    "df = pd.DataFrame(datos)\n",
    "print(df.shape)"
   ]
  },
  {
   "cell_type": "code",
   "execution_count": 12,
   "metadata": {},
   "outputs": [],
   "source": [
    "from sklearn.model_selection import train_test_split\n",
    "\n",
    "from sklearn.metrics import confusion_matrix\n",
    "from sklearn.model_selection import train_test_split\n",
    "from sklearn.utils.multiclass import unique_labels\n",
    "import torch\n",
    "import torch.nn as nn\n",
    "import torch.nn.functional as F\n",
    "from torch.utils.data import Dataset, DataLoader"
   ]
  },
  {
   "cell_type": "code",
   "execution_count": 13,
   "metadata": {},
   "outputs": [],
   "source": [
    "class ImageDataset(Dataset):\n",
    "    \"\"\"Dataset of Images and Labels\"\"\"\n",
    "\n",
    "    def __init__(self, images, labels, transform=None):\n",
    "        \"\"\"\n",
    "        Create a PyTorch dataset from an array of images\n",
    "\t\tand an array of labels\n",
    "        \"\"\"\n",
    "        self.images = images\n",
    "        self.labels = labels\n",
    "        self.transform = transform\n",
    "\n",
    "    def __len__(self):\n",
    "        return len(self.labels)\n",
    "\n",
    "    def __getitem__(self, idx):\n",
    "        if torch.is_tensor(idx):\n",
    "            idx = idx.tolist()\n",
    "\n",
    "        image = self.images[idx]\n",
    "        label = np.array(self.labels[idx])\n",
    "        \n",
    "        sample = {'image': image, 'label': label}\n",
    "\n",
    "        if self.transform:\n",
    "            sample = self.transform(sample)\n",
    "\n",
    "        return sample"
   ]
  },
  {
   "cell_type": "code",
   "execution_count": 14,
   "metadata": {},
   "outputs": [],
   "source": [
    "class ToTensor(object):\n",
    "    \"\"\"Convert ndarrays in sample to Tensors\"\"\"\n",
    "\n",
    "    def __call__(self, sample):\n",
    "        image, label = sample['image'], sample['label']\n",
    "\t\t\n",
    "\t\t# I like to add any scaling functions here, so uncomment if desired\n",
    "\t\t#image = (image - np.min(image, axis=(-1,-2))[:,:,np.newaxis,np.newaxis]) / np.max(image - np.min(image, axis=(-1,-2))[:,:,np.newaxis,np.newaxis], axis=(-1,-2))[:,:,np.newaxis,np.newaxis]\n",
    "\n",
    "        return {'image': torch.from_numpy(image).float(),\n",
    "                'label': torch.from_numpy(label)}"
   ]
  },
  {
   "cell_type": "code",
   "execution_count": 15,
   "metadata": {},
   "outputs": [],
   "source": [
    "def make_train_test_datasets(images, data, labels, test_size=0.2, transform=ToTensor()):\n",
    "    \"\"\"\n",
    "\tMake training and testing datasets\n",
    "\t\n",
    "\tArgs:\n",
    "\t    images: 4D array of all images\n",
    "        labels: 1D array of the labels for each image\n",
    "        test_size: the fraction of the images to use as the test dataset\n",
    "\t\ttransform: the PyTorch transformation to apply to the data\n",
    "\t\t\n",
    "\tReturns\n",
    "\t    train_dataset: An instance of the ImageDataset Class for training\n",
    "\t\ttest_dataset: An instance of the ImageDataset Class for testing\n",
    "\t\"\"\"\n",
    "\n",
    "    # Shuffle and split data\n",
    "    y = labels\n",
    "    train_images, test_images, train_labels, test_labels = train_test_split(\n",
    "        images, labels, test_size=test_size, random_state=8, stratify=y)\n",
    "    \n",
    "    train_data, test_data, ttrain_labels, ttest_labels = train_test_split(\n",
    "        data, labels, test_size=test_size, random_state=8, stratify=y)\n",
    "    \n",
    "    print(train_labels)\n",
    "    print(ttrain_labels)\n",
    "    \n",
    "    # Create a PyTorch Dataset\n",
    "    return (ImageDataset(train_images, train_labels, transform=transform),\n",
    "            ImageDataset(test_images, test_labels, transform=transform), train_data, test_data)"
   ]
  },
  {
   "cell_type": "code",
   "execution_count": 16,
   "metadata": {},
   "outputs": [],
   "source": [
    "class CNN(nn.Module):\n",
    "    \"\"\"\n",
    "    Convolutional Neural Network for multiband data. Note that you\n",
    "    will need to update the number of in_features for self.fc3.\n",
    "    \"\"\"\n",
    "    def __init__(self, in_channels, num_classes):\n",
    "        \"\"\"\n",
    "\t\tArgs:\n",
    "\t\t    in_channels: number of bands (gri = 3, griz=4)\n",
    "\t\t\tnum_classes: number of unique labels in your dataset\n",
    "\t\t\"\"\"\n",
    "        super(CNN, self).__init__()\n",
    "        \n",
    "        #Network Components\n",
    "        self.conv1 = nn.Conv2d(in_channels=in_channels, \n",
    "                               out_channels=48, \n",
    "                               kernel_size=15, \n",
    "                               stride=3,\n",
    "                               padding=2)\n",
    "\n",
    "        self.conv2 = nn.Conv2d(in_channels=48, \n",
    "                               out_channels=96,\n",
    "                               kernel_size=5, \n",
    "                               stride=1,\n",
    "                               padding=2)\n",
    "        \n",
    "        self.dropout1 = nn.Dropout2d(0.25)\n",
    "        \n",
    "        self.dropout2 = nn.Dropout2d(0.5)\n",
    "        \n",
    "        self.fc1 = nn.Linear(in_features=3456, \n",
    "                             out_features=408)\n",
    "\n",
    "        self.fc2 = nn.Linear(in_features=408, \n",
    "                             out_features=25)\n",
    "\n",
    "        self.fc3 = nn.Linear(in_features=25, \n",
    "                             out_features=num_classes)\n",
    "\n",
    "\n",
    "    def forward(self, x):\n",
    "        #Network Flow\n",
    "        x = self.conv1(x)\n",
    "        x = F.relu(x)\n",
    "        x = self.conv2(x)\n",
    "        x = F.max_pool2d(x, kernel_size=2)\n",
    "        x = self.dropout1(x)\n",
    "        x = torch.flatten(x, 1)\n",
    "        x = self.fc1(x)\n",
    "        x = F.relu(x)\n",
    "        x = self.dropout2(x)\n",
    "        x = self.fc2(x)\n",
    "        x = F.relu(x)\n",
    "        x = self.fc3(x)\n",
    "        output = F.log_softmax(x, dim=1)\n",
    "        return output\n",
    "\n",
    "    def init_weights(self, m):\n",
    "        if (type(m) == nn.Linear or type(m) == nn.Conv2d):\n",
    "            torch.nn.init.xavier_uniform_(m.weight)\n",
    "            m.bias.data.fill_(0.01)"
   ]
  },
  {
   "cell_type": "code",
   "execution_count": 17,
   "metadata": {},
   "outputs": [],
   "source": [
    "def train_cnn(\n",
    "    cnn, \n",
    "    train_dataloader, \n",
    "    train_dataset=None,\n",
    "    test_dataset=None,\n",
    "    validation_size=None, \n",
    "    monitor=False,\n",
    "    number_of_training_epochs=10,\n",
    "    learning_rate=0.0001):\n",
    "\t\n",
    "    \"\"\"\n",
    "    Train a CNN and output performance if desired\n",
    "\n",
    "    Args:\n",
    "        cnn: an instance of the CNN class\n",
    "        train_dataloader: a PyTorch DataLoader for the training dataset\n",
    "        train_dataset: an instance of the ImageDataset class for training\n",
    "        test_dataset: an instance of the ImageDataset class for testing\n",
    "        validation_size: the number of images to use for monitoring\n",
    "            - large numbers will slow down training. ~100 is good.\n",
    "        monitor: set to True if you want status updates on training\n",
    "        number_of_training_epochs: number of times to go through the dataset\n",
    "        learning_rate: multiplicative factor for updating network weights\n",
    "            - small learning_rate will mean slow training\n",
    "            - large learning_rate will train fast, but you may miss the best weights\n",
    "            - ~0.001 is a good starting point\n",
    "    \"\"\"\n",
    "    if not monitor and (train_dataset is None or test_dataset is None):\n",
    "        raise ValueError(\"Must pass training and testing datasets for monitoring\")\n",
    "    \n",
    "    if validation_size is None:\n",
    "        validation_size=len(test_dataset)\n",
    "    loss_function = nn.CrossEntropyLoss()\n",
    "    optimizer = torch.optim.Adam(cnn.parameters(), lr=learning_rate)\n",
    "    \n",
    "    losses, train_acc, validation_acc = [], [], []\n",
    "\n",
    "    for epoch in range(number_of_training_epochs):\n",
    "        sys.stdout.write(\"\\rEpoch {0}\\r\".format(epoch + 1))\n",
    "        sys.stdout.flush()\n",
    "\n",
    "        for i_batch, sample_batched in enumerate(train_dataloader):\n",
    "\n",
    "            #Clear out all existing gradients on the loss surface to reevaluate for this step\n",
    "            optimizer.zero_grad()\n",
    "\n",
    "            #Get the CNN's current prediction of the training data\n",
    "            output = cnn(sample_batched['image'])\n",
    "\n",
    "            #Calculate the loss by comparing the prediction to the truth\n",
    "            loss = loss_function(output, sample_batched['label']) \n",
    "\n",
    "            #Evaluate all gradients along the loss surface using back propagation\n",
    "            loss.backward()\n",
    "\n",
    "            #Based on the gradients, take the optimal step in the weight space\n",
    "            optimizer.step()\n",
    "\n",
    "            #Performance monitoring if desired\n",
    "            if monitor:\n",
    "                if i_batch % 200 == 0: #before batch 200\n",
    "                    train_output = cnn(train_dataset[0:validation_size]['image'])\n",
    "                    validation_output = cnn(test_dataset[0:validation_size]['image'])\n",
    "\n",
    "                    train_predictions = torch.max(train_output, 1)[1].data.numpy()\n",
    "                    validation_predictions = torch.max(validation_output, 1)[1].data.numpy()\n",
    "\n",
    "                    train_accuracy = np.sum(train_predictions == train_dataset[0:validation_size]['label'].numpy()) / validation_size\n",
    "                    validation_accuracy = np.sum(validation_predictions == test_dataset[0:validation_size]['label'].numpy()) / validation_size\n",
    "\n",
    "                    print(\"Epoch: {0} Batch: {1}  | Training Accuracy: {2:.3f} -- Validation Accuracy: {3:.3f} -- Loss: {4:.3f}\".format(epoch + 1, i_batch + 1, train_accuracy, validation_accuracy, loss.data.numpy()))\n",
    "\n",
    "                    losses.append(loss.data.numpy())\n",
    "                    train_acc.append(train_accuracy)\n",
    "                    validation_acc.append(validation_accuracy)\n",
    "   \n",
    "    setattr(cnn, 'losses', losses)\n",
    "    setattr(cnn, 'train_acc', train_acc)\n",
    "    setattr(cnn, 'validation_acc', validation_acc)\n",
    "\n",
    "    return cnn"
   ]
  },
  {
   "cell_type": "code",
   "execution_count": 18,
   "metadata": {},
   "outputs": [],
   "source": [
    "def plot_confusion_matrix(y_true, y_pred, classes,\n",
    "                          normalize=False,\n",
    "                          title='',\n",
    "                          cmap=plt.cm.Blues, name = 'generic'):\n",
    "    \"\"\"\n",
    "    This function prints and plots the confusion matrix.\n",
    "    Normalization can be applied by setting `normalize=True`.\n",
    "    \"\"\"\n",
    "    # Compute confusion matrix\n",
    "    cm = confusion_matrix(y_true, y_pred)\n",
    "    # Only use the labels that appear in the data\n",
    "    classes = classes[unique_labels(y_true, y_pred)]\n",
    "    if normalize:\n",
    "        cm = cm.astype('float') / cm.sum(axis=1)[:, np.newaxis]\n",
    "\n",
    "    fig, ax = plt.subplots(figsize=(5,3), dpi=120)\n",
    "    im = ax.imshow(cm, interpolation='nearest', cmap=cmap)\n",
    "    ax.figure.colorbar(im, ax=ax)\n",
    "    \n",
    "    ax.set_xticks(np.arange(cm.shape[1]))\n",
    "    ax.set_yticks(np.arange(cm.shape[0]))\n",
    "    ax.set_xticklabels(classes, fontsize=12)\n",
    "    ax.set_yticklabels(classes, fontsize=12)\n",
    "    ax.set_xlabel('Predicted Class', fontsize=14)\n",
    "    ax.set_ylabel('True Class', fontsize=14)\n",
    "\n",
    "    # Loop over data dimensions and create text annotations.\n",
    "    fmt = '.2f' if normalize else 'd'\n",
    "    thresh = cm.max() / 2.\n",
    "    for i in range(cm.shape[0]):\n",
    "        for j in range(cm.shape[1]):\n",
    "            ax.text(j, i, format(cm[i, j], fmt),\n",
    "                    ha=\"center\", va=\"center\",\n",
    "                    color=\"white\" if cm[i, j] > thresh else \"black\", fontsize=12)\n",
    "    fig.tight_layout()\n",
    "    plt.show()\n",
    "    return"
   ]
  },
  {
   "cell_type": "code",
   "execution_count": 19,
   "metadata": {},
   "outputs": [],
   "source": [
    "def plot_performance(cnn):\n",
    "    x = np.linspace(1,len(cnn.losses),len(cnn.losses))\n",
    "    fig, ax1 = plt.subplots(figsize=(12, 7), ncols=1)\n",
    "    ax1.set_title('Performance')\n",
    "    ax1.set_xlabel('Epoch')\n",
    "    ax1.plot(x, cnn.losses, 'wo', label = 'Loss')\n",
    "    ax1.plot(x, cnn.train_acc, 'ro', label = 'Training Accuracy')\n",
    "    ax1.plot(x, cnn.validation_acc, 'go', label = 'Validation Accuracy')\n",
    "    ax1.legend()\n",
    "    plt.xlim([1.5, len(cnn.losses) + 0.5])\n",
    "    plt.ylim([0, 2])\n",
    "    plt.show(block=True)#'Performance_' + name +'.png', bbox_inches='tight')\n"
   ]
  },
  {
   "cell_type": "code",
   "execution_count": 20,
   "metadata": {},
   "outputs": [
    {
     "name": "stdout",
     "output_type": "stream",
     "text": [
      "(34, 3, 46, 46) (34,)\n",
      "[1 1 1 0 1 0 0 1 1 1 1 0 0 0 1 0 0 0 1 1 0 1 1 0 0 0 0]\n",
      "[1 1 1 0 1 0 0 1 1 1 1 0 0 0 1 0 0 0 1 1 0 1 1 0 0 0 0]\n",
      "[0 0 1 0 1 1 1]\n"
     ]
    }
   ],
   "source": [
    "print(images.shape, datos.shape)\n",
    "train_dataset, test_dataset, train_data, test_data = make_train_test_datasets(images, datos, labels)\n",
    "\n",
    "print(test_dataset.labels)"
   ]
  },
  {
   "cell_type": "code",
   "execution_count": 21,
   "metadata": {},
   "outputs": [
    {
     "data": {
      "text/html": [
       "<div>\n",
       "<style scoped>\n",
       "    .dataframe tbody tr th:only-of-type {\n",
       "        vertical-align: middle;\n",
       "    }\n",
       "\n",
       "    .dataframe tbody tr th {\n",
       "        vertical-align: top;\n",
       "    }\n",
       "\n",
       "    .dataframe thead th {\n",
       "        text-align: right;\n",
       "    }\n",
       "</style>\n",
       "<table border=\"1\" class=\"dataframe\">\n",
       "  <thead>\n",
       "    <tr style=\"text-align: right;\">\n",
       "      <th></th>\n",
       "      <th>a</th>\n",
       "      <th>b</th>\n",
       "      <th>c</th>\n",
       "      <th>d</th>\n",
       "    </tr>\n",
       "  </thead>\n",
       "  <tbody>\n",
       "    <tr>\n",
       "      <th>0</th>\n",
       "      <td>1.0</td>\n",
       "      <td>2.0</td>\n",
       "      <td>3.0</td>\n",
       "      <td>4.0</td>\n",
       "    </tr>\n",
       "    <tr>\n",
       "      <th>1</th>\n",
       "      <td>1.0</td>\n",
       "      <td>1.0</td>\n",
       "      <td>1.0</td>\n",
       "      <td>1.0</td>\n",
       "    </tr>\n",
       "    <tr>\n",
       "      <th>2</th>\n",
       "      <td>0.0</td>\n",
       "      <td>0.0</td>\n",
       "      <td>0.0</td>\n",
       "      <td>0.0</td>\n",
       "    </tr>\n",
       "    <tr>\n",
       "      <th>3</th>\n",
       "      <td>0.0</td>\n",
       "      <td>0.0</td>\n",
       "      <td>0.0</td>\n",
       "      <td>0.0</td>\n",
       "    </tr>\n",
       "    <tr>\n",
       "      <th>4</th>\n",
       "      <td>1.0</td>\n",
       "      <td>2.0</td>\n",
       "      <td>3.0</td>\n",
       "      <td>4.0</td>\n",
       "    </tr>\n",
       "    <tr>\n",
       "      <th>5</th>\n",
       "      <td>1.0</td>\n",
       "      <td>1.0</td>\n",
       "      <td>1.0</td>\n",
       "      <td>1.0</td>\n",
       "    </tr>\n",
       "    <tr>\n",
       "      <th>6</th>\n",
       "      <td>1.0</td>\n",
       "      <td>1.0</td>\n",
       "      <td>1.0</td>\n",
       "      <td>1.0</td>\n",
       "    </tr>\n",
       "  </tbody>\n",
       "</table>\n",
       "</div>"
      ],
      "text/plain": [
       "     a    b    c    d\n",
       "0  1.0  2.0  3.0  4.0\n",
       "1  1.0  1.0  1.0  1.0\n",
       "2  0.0  0.0  0.0  0.0\n",
       "3  0.0  0.0  0.0  0.0\n",
       "4  1.0  2.0  3.0  4.0\n",
       "5  1.0  1.0  1.0  1.0\n",
       "6  1.0  1.0  1.0  1.0"
      ]
     },
     "execution_count": 21,
     "metadata": {},
     "output_type": "execute_result"
    }
   ],
   "source": [
    "df = pd.DataFrame(test_data)\n",
    "df"
   ]
  },
  {
   "cell_type": "code",
   "execution_count": 22,
   "metadata": {},
   "outputs": [
    {
     "data": {
      "text/plain": [
       "CNN(\n",
       "  (conv1): Conv2d(3, 48, kernel_size=(15, 15), stride=(3, 3), padding=(2, 2))\n",
       "  (conv2): Conv2d(48, 96, kernel_size=(5, 5), stride=(1, 1), padding=(2, 2))\n",
       "  (dropout1): Dropout2d(p=0.25, inplace=False)\n",
       "  (dropout2): Dropout2d(p=0.5, inplace=False)\n",
       "  (fc1): Linear(in_features=3456, out_features=408, bias=True)\n",
       "  (fc2): Linear(in_features=408, out_features=25, bias=True)\n",
       "  (fc3): Linear(in_features=25, out_features=2, bias=True)\n",
       ")"
      ]
     },
     "execution_count": 22,
     "metadata": {},
     "output_type": "execute_result"
    }
   ],
   "source": [
    "# Make a DataLoader to train the network\n",
    "train_dataloader = DataLoader(train_dataset, batch_size=20, shuffle=True, num_workers=4) # batch_size = 20\n",
    "\n",
    "# Make a CNN\n",
    "cnn = CNN(\n",
    "\tin_channels=np.shape(images)[1], \n",
    "\tnum_classes=len(np.unique(labels)))\n",
    "\n",
    "#Initialize weights\n",
    "cnn.apply(cnn.init_weights)"
   ]
  },
  {
   "cell_type": "code",
   "execution_count": 23,
   "metadata": {},
   "outputs": [
    {
     "name": "stdout",
     "output_type": "stream",
     "text": [
      "Epoch: 1 Batch: 1  | Training Accuracy: 0.060 -- Validation Accuracy: 0.020 -- Loss: 8.895\n",
      "Epoch: 2 Batch: 1  | Training Accuracy: 0.080 -- Validation Accuracy: 0.020 -- Loss: 7.963\n",
      "Epoch: 3 Batch: 1  | Training Accuracy: 0.070 -- Validation Accuracy: 0.010 -- Loss: 5.447\n",
      "Epoch: 4 Batch: 1  | Training Accuracy: 0.060 -- Validation Accuracy: 0.015 -- Loss: 0.373\n",
      "Epoch: 5 Batch: 1  | Training Accuracy: 0.065 -- Validation Accuracy: 0.015 -- Loss: 8.053\n",
      "Epoch: 6 Batch: 1  | Training Accuracy: 0.080 -- Validation Accuracy: 0.010 -- Loss: 6.574\n",
      "Epoch: 7 Batch: 1  | Training Accuracy: 0.085 -- Validation Accuracy: 0.015 -- Loss: 2.819\n",
      "Epoch: 8 Batch: 1  | Training Accuracy: 0.055 -- Validation Accuracy: 0.015 -- Loss: 4.773\n",
      "Epoch: 9 Batch: 1  | Training Accuracy: 0.065 -- Validation Accuracy: 0.030 -- Loss: 7.624\n",
      "Epoch: 10 Batch: 1  | Training Accuracy: 0.060 -- Validation Accuracy: 0.020 -- Loss: 2.769\n"
     ]
    }
   ],
   "source": [
    "# Train the CNN\n",
    "cnn = train_cnn(cnn, \n",
    "\t\t\t\ttrain_dataloader, \n",
    "\t\t\t\ttrain_dataset=train_dataset,\n",
    "\t\t\t\ttest_dataset=test_dataset,\n",
    "\t\t\t\tvalidation_size=200, #100\n",
    "\t\t\t\tnumber_of_training_epochs=10, #150\n",
    "\t\t\t\tmonitor=True)"
   ]
  },
  {
   "cell_type": "code",
   "execution_count": 24,
   "metadata": {},
   "outputs": [
    {
     "data": {
      "image/png": "[encoded data removed]",
      "text/plain": [
       "<Figure size 864x504 with 1 Axes>"
      ]
     },
     "metadata": {},
     "output_type": "display_data"
    }
   ],
   "source": [
    "plot_performance(cnn)"
   ]
  },
  {
   "cell_type": "code",
   "execution_count": 25,
   "metadata": {},
   "outputs": [],
   "source": [
    "# Use the CNN to classify your whole test dataset\n",
    "cnn.eval()\n",
    "\n",
    "non_binary_predictions = cnn(test_dataset[:]['image'])\n",
    "\n",
    "test_predictions = torch.max(cnn(test_dataset[:]['image']), 1)[1].data.numpy()  \n",
    "test_labels = test_dataset[:]['label'].data.numpy()"
   ]
  },
  {
   "cell_type": "code",
   "execution_count": 26,
   "metadata": {},
   "outputs": [
    {
     "name": "stdout",
     "output_type": "stream",
     "text": [
      "[0 0 0 1 0 1 1]\n",
      "[0 0 1 0 1 1 1]\n",
      "(7, 3, 46, 46)\n",
      "     a    b    c    d\n",
      "0  1.0  2.0  3.0  4.0\n",
      "1  1.0  1.0  1.0  1.0\n",
      "2  0.0  0.0  0.0  0.0\n",
      "3  0.0  0.0  0.0  0.0\n",
      "4  1.0  2.0  3.0  4.0\n",
      "5  1.0  1.0  1.0  1.0\n",
      "6  1.0  1.0  1.0  1.0\n"
     ]
    }
   ],
   "source": [
    "# I have test_predictions, test_labels, test_dataset and test_data (df)\n",
    "print(test_predictions)\n",
    "print(test_labels)\n",
    "print(test_dataset.images.shape)\n",
    "print(df)"
   ]
  },
  {
   "cell_type": "code",
   "execution_count": 27,
   "metadata": {},
   "outputs": [],
   "source": [
    "#get indices of test dataset where the label is wrong predicted\n",
    "indices = []\n",
    "for i in range(len(test_labels)):\n",
    "    if(test_predictions[i] != test_labels[i]):\n",
    "        indices.append(i)"
   ]
  },
  {
   "cell_type": "code",
   "execution_count": 28,
   "metadata": {},
   "outputs": [
    {
     "name": "stdout",
     "output_type": "stream",
     "text": [
      "[2, 3, 4]\n"
     ]
    }
   ],
   "source": [
    "print(indices)"
   ]
  },
  {
   "cell_type": "code",
   "execution_count": 29,
   "metadata": {
    "scrolled": true
   },
   "outputs": [
    {
     "data": {
      "text/plain": [
       "FITS_rec([(0., 0., 0., 0.), (0., 0., 0., 0.), (1., 2., 3., 4.)],\n",
       "         dtype=(numpy.record, [('a', '>f8'), ('b', '>f8'), ('c', '>f8'), ('d', '>f8')]))"
      ]
     },
     "execution_count": 29,
     "metadata": {},
     "output_type": "execute_result"
    }
   ],
   "source": [
    "test_data[indices]"
   ]
  },
  {
   "cell_type": "code",
   "execution_count": 30,
   "metadata": {},
   "outputs": [
    {
     "data": {
      "text/html": [
       "<div>\n",
       "<style scoped>\n",
       "    .dataframe tbody tr th:only-of-type {\n",
       "        vertical-align: middle;\n",
       "    }\n",
       "\n",
       "    .dataframe tbody tr th {\n",
       "        vertical-align: top;\n",
       "    }\n",
       "\n",
       "    .dataframe thead th {\n",
       "        text-align: right;\n",
       "    }\n",
       "</style>\n",
       "<table border=\"1\" class=\"dataframe\">\n",
       "  <thead>\n",
       "    <tr style=\"text-align: right;\">\n",
       "      <th></th>\n",
       "      <th>a</th>\n",
       "      <th>b</th>\n",
       "      <th>c</th>\n",
       "      <th>d</th>\n",
       "    </tr>\n",
       "  </thead>\n",
       "  <tbody>\n",
       "    <tr>\n",
       "      <th>0</th>\n",
       "      <td>1.0</td>\n",
       "      <td>2.0</td>\n",
       "      <td>3.0</td>\n",
       "      <td>4.0</td>\n",
       "    </tr>\n",
       "    <tr>\n",
       "      <th>1</th>\n",
       "      <td>1.0</td>\n",
       "      <td>1.0</td>\n",
       "      <td>1.0</td>\n",
       "      <td>1.0</td>\n",
       "    </tr>\n",
       "    <tr>\n",
       "      <th>2</th>\n",
       "      <td>0.0</td>\n",
       "      <td>0.0</td>\n",
       "      <td>0.0</td>\n",
       "      <td>0.0</td>\n",
       "    </tr>\n",
       "    <tr>\n",
       "      <th>3</th>\n",
       "      <td>0.0</td>\n",
       "      <td>0.0</td>\n",
       "      <td>0.0</td>\n",
       "      <td>0.0</td>\n",
       "    </tr>\n",
       "    <tr>\n",
       "      <th>4</th>\n",
       "      <td>1.0</td>\n",
       "      <td>2.0</td>\n",
       "      <td>3.0</td>\n",
       "      <td>4.0</td>\n",
       "    </tr>\n",
       "    <tr>\n",
       "      <th>5</th>\n",
       "      <td>1.0</td>\n",
       "      <td>1.0</td>\n",
       "      <td>1.0</td>\n",
       "      <td>1.0</td>\n",
       "    </tr>\n",
       "    <tr>\n",
       "      <th>6</th>\n",
       "      <td>1.0</td>\n",
       "      <td>1.0</td>\n",
       "      <td>1.0</td>\n",
       "      <td>1.0</td>\n",
       "    </tr>\n",
       "  </tbody>\n",
       "</table>\n",
       "</div>"
      ],
      "text/plain": [
       "     a    b    c    d\n",
       "0  1.0  2.0  3.0  4.0\n",
       "1  1.0  1.0  1.0  1.0\n",
       "2  0.0  0.0  0.0  0.0\n",
       "3  0.0  0.0  0.0  0.0\n",
       "4  1.0  2.0  3.0  4.0\n",
       "5  1.0  1.0  1.0  1.0\n",
       "6  1.0  1.0  1.0  1.0"
      ]
     },
     "execution_count": 30,
     "metadata": {},
     "output_type": "execute_result"
    }
   ],
   "source": [
    "df"
   ]
  },
  {
   "cell_type": "code",
   "execution_count": 42,
   "metadata": {},
   "outputs": [
    {
     "data": {
      "text/plain": [
       "a    1.0\n",
       "b    2.0\n",
       "c    3.0\n",
       "d    4.0\n",
       "Name: 0, dtype: float64"
      ]
     },
     "execution_count": 42,
     "metadata": {},
     "output_type": "execute_result"
    }
   ],
   "source": [
    "df.loc[0, : ]\n",
    "#df.iloc[['1', '0'], : ]\n",
    "#dfObj.iloc[[2 ,0 ] , : ]"
   ]
  },
  {
   "cell_type": "code",
   "execution_count": 46,
   "metadata": {},
   "outputs": [
    {
     "data": {
      "image/png": "[encoded data removed]",
      "text/plain": [
       "<Figure size 432x288 with 1 Axes>"
      ]
     },
     "metadata": {},
     "output_type": "display_data"
    }
   ],
   "source": [
    "wpredic = test_data[indices]\n",
    "wpredic['a']\n",
    "\n",
    "plt.figure()\n",
    "plt.hist(wpredic['a'], 3)\n",
    "plt.show()"
   ]
  },
  {
   "cell_type": "code",
   "execution_count": null,
   "metadata": {},
   "outputs": [],
   "source": []
  }
 ],
 "metadata": {
  "kernelspec": {
   "display_name": "PyTorch",
   "language": "python",
   "name": "pytorch"
  },
  "language_info": {
   "codemirror_mode": {
    "name": "ipython",
    "version": 3
   },
   "file_extension": ".py",
   "mimetype": "text/x-python",
   "name": "python",
   "nbconvert_exporter": "python",
   "pygments_lexer": "ipython3",
   "version": "3.7.7"
  }
 },
 "nbformat": 4,
 "nbformat_minor": 4
}
